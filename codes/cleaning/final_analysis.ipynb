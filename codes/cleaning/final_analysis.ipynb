{
 "cells": [
  {
   "cell_type": "code",
   "execution_count": 1,
   "metadata": {},
   "outputs": [
    {
     "name": "stderr",
     "output_type": "stream",
     "text": [
      "/home/wfn7ad/.local/lib/python3.8/site-packages/pandas/core/computation/expressions.py:20: UserWarning: Pandas requires version '2.7.3' or newer of 'numexpr' (version '2.7.1' currently installed).\n",
      "  from pandas.core.computation.check import NUMEXPR_INSTALLED\n"
     ]
    }
   ],
   "source": [
    "import pandas as pd\n",
    "import numpy as np\n",
    "import os\n",
    "import seaborn as sns\n",
    "from sklearn import preprocessing\n",
    "import matplotlib.pyplot as plt\n",
    "from sklearn.model_selection import train_test_split\n",
    "from sklearn.linear_model import LogisticRegression\n",
    "from sklearn.tree import DecisionTreeClassifier # Import Decision Tree Classifier\n",
    "from sklearn.svm import SVC\n",
    "from sklearn import metrics\n",
    "from sklearn.metrics import roc_curve, auc\n",
    "import matplotlib.pyplot as plt\n",
    "from sklearn.metrics import classification_report"
   ]
  },
  {
   "cell_type": "code",
   "execution_count": 2,
   "metadata": {},
   "outputs": [
    {
     "data": {
      "text/html": [
       "<div>\n",
       "<style scoped>\n",
       "    .dataframe tbody tr th:only-of-type {\n",
       "        vertical-align: middle;\n",
       "    }\n",
       "\n",
       "    .dataframe tbody tr th {\n",
       "        vertical-align: top;\n",
       "    }\n",
       "\n",
       "    .dataframe thead th {\n",
       "        text-align: right;\n",
       "    }\n",
       "</style>\n",
       "<table border=\"1\" class=\"dataframe\">\n",
       "  <thead>\n",
       "    <tr style=\"text-align: right;\">\n",
       "      <th></th>\n",
       "      <th>X</th>\n",
       "      <th>Unnamed..0</th>\n",
       "      <th>duns</th>\n",
       "      <th>company_name</th>\n",
       "      <th>firstname</th>\n",
       "      <th>lastname</th>\n",
       "      <th>title</th>\n",
       "      <th>gender</th>\n",
       "      <th>flag_owner</th>\n",
       "      <th>flag_presi_vicepresi</th>\n",
       "      <th>...</th>\n",
       "      <th>naics_name</th>\n",
       "      <th>flag_executive_reported</th>\n",
       "      <th>geoid</th>\n",
       "      <th>prop_nwh</th>\n",
       "      <th>geometry</th>\n",
       "      <th>prob_spacy</th>\n",
       "      <th>prob_gt</th>\n",
       "      <th>prob_ld</th>\n",
       "      <th>prob_nw_rbert</th>\n",
       "      <th>prob_nw_rethn</th>\n",
       "    </tr>\n",
       "  </thead>\n",
       "  <tbody>\n",
       "    <tr>\n",
       "      <th>0</th>\n",
       "      <td>0</td>\n",
       "      <td>0</td>\n",
       "      <td>00-138-3244</td>\n",
       "      <td>WILSON, LYNNFORD SAMUEL JR</td>\n",
       "      <td>Lynnford</td>\n",
       "      <td>Wilson</td>\n",
       "      <td>Owner</td>\n",
       "      <td>U</td>\n",
       "      <td>1</td>\n",
       "      <td>0</td>\n",
       "      <td>...</td>\n",
       "      <td>Health Care and Social Assistance</td>\n",
       "      <td>1</td>\n",
       "      <td>5.105948e+10</td>\n",
       "      <td>26.602177</td>\n",
       "      <td>c(-77.324596, 38.999535)</td>\n",
       "      <td>0.999995</td>\n",
       "      <td>0.0</td>\n",
       "      <td>1</td>\n",
       "      <td>0.819709</td>\n",
       "      <td>0.809268</td>\n",
       "    </tr>\n",
       "    <tr>\n",
       "      <th>1</th>\n",
       "      <td>1</td>\n",
       "      <td>1</td>\n",
       "      <td>00-145-3948</td>\n",
       "      <td>CROCODILE CONSULTING</td>\n",
       "      <td>Jessica</td>\n",
       "      <td>Moore</td>\n",
       "      <td>Administrative Assistant Sales</td>\n",
       "      <td>FEMALE</td>\n",
       "      <td>0</td>\n",
       "      <td>0</td>\n",
       "      <td>...</td>\n",
       "      <td>Professional, Scientific, and Technical Services</td>\n",
       "      <td>1</td>\n",
       "      <td>5.105948e+10</td>\n",
       "      <td>20.372268</td>\n",
       "      <td>c(-77.389534, 38.994397)</td>\n",
       "      <td>0.000000</td>\n",
       "      <td>0.0</td>\n",
       "      <td>0</td>\n",
       "      <td>0.201729</td>\n",
       "      <td>0.534265</td>\n",
       "    </tr>\n",
       "    <tr>\n",
       "      <th>2</th>\n",
       "      <td>2</td>\n",
       "      <td>2</td>\n",
       "      <td>00-145-3948</td>\n",
       "      <td>CROCODILE CONSULTING</td>\n",
       "      <td>Leonard</td>\n",
       "      <td>Caldwell</td>\n",
       "      <td>Owner</td>\n",
       "      <td>MALE</td>\n",
       "      <td>1</td>\n",
       "      <td>0</td>\n",
       "      <td>...</td>\n",
       "      <td>Professional, Scientific, and Technical Services</td>\n",
       "      <td>1</td>\n",
       "      <td>5.105948e+10</td>\n",
       "      <td>20.372268</td>\n",
       "      <td>c(-77.389534, 38.994397)</td>\n",
       "      <td>0.000000</td>\n",
       "      <td>0.0</td>\n",
       "      <td>0</td>\n",
       "      <td>0.402071</td>\n",
       "      <td>0.670843</td>\n",
       "    </tr>\n",
       "    <tr>\n",
       "      <th>3</th>\n",
       "      <td>3</td>\n",
       "      <td>3</td>\n",
       "      <td>00-171-0412</td>\n",
       "      <td>CENTREVILLE TAX SERVICE LLC</td>\n",
       "      <td>Scott</td>\n",
       "      <td>Walls</td>\n",
       "      <td>Owner</td>\n",
       "      <td>MALE</td>\n",
       "      <td>1</td>\n",
       "      <td>0</td>\n",
       "      <td>...</td>\n",
       "      <td>Professional, Scientific, and Technical Services</td>\n",
       "      <td>1</td>\n",
       "      <td>5.105949e+10</td>\n",
       "      <td>19.153605</td>\n",
       "      <td>c(-77.460635, 38.8639)</td>\n",
       "      <td>0.999994</td>\n",
       "      <td>0.0</td>\n",
       "      <td>1</td>\n",
       "      <td>0.023717</td>\n",
       "      <td>0.210296</td>\n",
       "    </tr>\n",
       "    <tr>\n",
       "      <th>4</th>\n",
       "      <td>4</td>\n",
       "      <td>4</td>\n",
       "      <td>00-183-0152</td>\n",
       "      <td>KAUFMAN ASSOC</td>\n",
       "      <td>Betsy</td>\n",
       "      <td>Kaufman</td>\n",
       "      <td>Owner</td>\n",
       "      <td>FEMALE</td>\n",
       "      <td>1</td>\n",
       "      <td>0</td>\n",
       "      <td>...</td>\n",
       "      <td>Professional, Scientific, and Technical Services</td>\n",
       "      <td>1</td>\n",
       "      <td>5.105942e+10</td>\n",
       "      <td>36.208236</td>\n",
       "      <td>c(-77.08656, 38.777228)</td>\n",
       "      <td>0.999673</td>\n",
       "      <td>0.0</td>\n",
       "      <td>1</td>\n",
       "      <td>0.036510</td>\n",
       "      <td>0.159237</td>\n",
       "    </tr>\n",
       "    <tr>\n",
       "      <th>...</th>\n",
       "      <td>...</td>\n",
       "      <td>...</td>\n",
       "      <td>...</td>\n",
       "      <td>...</td>\n",
       "      <td>...</td>\n",
       "      <td>...</td>\n",
       "      <td>...</td>\n",
       "      <td>...</td>\n",
       "      <td>...</td>\n",
       "      <td>...</td>\n",
       "      <td>...</td>\n",
       "      <td>...</td>\n",
       "      <td>...</td>\n",
       "      <td>...</td>\n",
       "      <td>...</td>\n",
       "      <td>...</td>\n",
       "      <td>...</td>\n",
       "      <td>...</td>\n",
       "      <td>...</td>\n",
       "      <td>...</td>\n",
       "      <td>...</td>\n",
       "    </tr>\n",
       "    <tr>\n",
       "      <th>18151</th>\n",
       "      <td>18151</td>\n",
       "      <td>18151</td>\n",
       "      <td>96-994-4219</td>\n",
       "      <td>GEOPAY, INC.</td>\n",
       "      <td>Karla</td>\n",
       "      <td>Russell</td>\n",
       "      <td>Chief Operating Officer</td>\n",
       "      <td>FEMALE</td>\n",
       "      <td>0</td>\n",
       "      <td>0</td>\n",
       "      <td>...</td>\n",
       "      <td>Other Services (except Public Administration)</td>\n",
       "      <td>1</td>\n",
       "      <td>5.105948e+10</td>\n",
       "      <td>34.302699</td>\n",
       "      <td>c(-77.331479, 38.948677)</td>\n",
       "      <td>0.000000</td>\n",
       "      <td>0.0</td>\n",
       "      <td>0</td>\n",
       "      <td>NaN</td>\n",
       "      <td>0.800575</td>\n",
       "    </tr>\n",
       "    <tr>\n",
       "      <th>18152</th>\n",
       "      <td>18152</td>\n",
       "      <td>18152</td>\n",
       "      <td>96-995-4812</td>\n",
       "      <td>K EDWARD ROBINSON &amp; ASSOCIATES LLC</td>\n",
       "      <td>Keith</td>\n",
       "      <td>Robinson</td>\n",
       "      <td>Pres-ceo</td>\n",
       "      <td>MALE</td>\n",
       "      <td>0</td>\n",
       "      <td>0</td>\n",
       "      <td>...</td>\n",
       "      <td>Professional, Scientific, and Technical Services</td>\n",
       "      <td>1</td>\n",
       "      <td>5.105942e+10</td>\n",
       "      <td>62.402930</td>\n",
       "      <td>c(-77.230478, 38.707725)</td>\n",
       "      <td>0.999673</td>\n",
       "      <td>0.0</td>\n",
       "      <td>1</td>\n",
       "      <td>NaN</td>\n",
       "      <td>0.906111</td>\n",
       "    </tr>\n",
       "    <tr>\n",
       "      <th>18153</th>\n",
       "      <td>18153</td>\n",
       "      <td>18153</td>\n",
       "      <td>96-996-0488</td>\n",
       "      <td>LAGNIAPPE CONSULTING, LLC</td>\n",
       "      <td>Wallace</td>\n",
       "      <td>Daniels</td>\n",
       "      <td>Owner</td>\n",
       "      <td>MALE</td>\n",
       "      <td>1</td>\n",
       "      <td>0</td>\n",
       "      <td>...</td>\n",
       "      <td>Professional, Scientific, and Technical Services</td>\n",
       "      <td>1</td>\n",
       "      <td>5.105942e+10</td>\n",
       "      <td>60.324061</td>\n",
       "      <td>c(-77.097715, 38.7433)</td>\n",
       "      <td>0.000000</td>\n",
       "      <td>0.0</td>\n",
       "      <td>0</td>\n",
       "      <td>NaN</td>\n",
       "      <td>0.872609</td>\n",
       "    </tr>\n",
       "    <tr>\n",
       "      <th>18154</th>\n",
       "      <td>18154</td>\n",
       "      <td>18154</td>\n",
       "      <td>96-996-0488</td>\n",
       "      <td>LAGNIAPPE CONSULTING, LLC</td>\n",
       "      <td>Omar</td>\n",
       "      <td>Daniels</td>\n",
       "      <td>Co-owner</td>\n",
       "      <td>MALE</td>\n",
       "      <td>0</td>\n",
       "      <td>0</td>\n",
       "      <td>...</td>\n",
       "      <td>Professional, Scientific, and Technical Services</td>\n",
       "      <td>1</td>\n",
       "      <td>5.105942e+10</td>\n",
       "      <td>60.324061</td>\n",
       "      <td>c(-77.097715, 38.7433)</td>\n",
       "      <td>0.000000</td>\n",
       "      <td>0.0</td>\n",
       "      <td>0</td>\n",
       "      <td>NaN</td>\n",
       "      <td>0.975594</td>\n",
       "    </tr>\n",
       "    <tr>\n",
       "      <th>18155</th>\n",
       "      <td>18155</td>\n",
       "      <td>18155</td>\n",
       "      <td>96-998-7424</td>\n",
       "      <td>ACQUISITION MANAGEMENT SYSTEMS, LLC</td>\n",
       "      <td>Helen</td>\n",
       "      <td>Zilvinskis-clar</td>\n",
       "      <td>Member</td>\n",
       "      <td>FEMALE</td>\n",
       "      <td>0</td>\n",
       "      <td>0</td>\n",
       "      <td>...</td>\n",
       "      <td>Professional, Scientific, and Technical Services</td>\n",
       "      <td>1</td>\n",
       "      <td>5.105946e+10</td>\n",
       "      <td>48.968879</td>\n",
       "      <td>c(-77.263561, 38.875946)</td>\n",
       "      <td>0.999673</td>\n",
       "      <td>0.0</td>\n",
       "      <td>1</td>\n",
       "      <td>NaN</td>\n",
       "      <td>0.120278</td>\n",
       "    </tr>\n",
       "  </tbody>\n",
       "</table>\n",
       "<p>18156 rows × 42 columns</p>\n",
       "</div>"
      ],
      "text/plain": [
       "           X  Unnamed..0         duns                         company_name  \\\n",
       "0          0           0  00-138-3244           WILSON, LYNNFORD SAMUEL JR   \n",
       "1          1           1  00-145-3948                 CROCODILE CONSULTING   \n",
       "2          2           2  00-145-3948                 CROCODILE CONSULTING   \n",
       "3          3           3  00-171-0412          CENTREVILLE TAX SERVICE LLC   \n",
       "4          4           4  00-183-0152                        KAUFMAN ASSOC   \n",
       "...      ...         ...          ...                                  ...   \n",
       "18151  18151       18151  96-994-4219                         GEOPAY, INC.   \n",
       "18152  18152       18152  96-995-4812   K EDWARD ROBINSON & ASSOCIATES LLC   \n",
       "18153  18153       18153  96-996-0488            LAGNIAPPE CONSULTING, LLC   \n",
       "18154  18154       18154  96-996-0488            LAGNIAPPE CONSULTING, LLC   \n",
       "18155  18155       18155  96-998-7424  ACQUISITION MANAGEMENT SYSTEMS, LLC   \n",
       "\n",
       "      firstname         lastname                           title  gender  \\\n",
       "0      Lynnford           Wilson                           Owner       U   \n",
       "1       Jessica            Moore  Administrative Assistant Sales  FEMALE   \n",
       "2       Leonard         Caldwell                           Owner    MALE   \n",
       "3         Scott            Walls                           Owner    MALE   \n",
       "4         Betsy          Kaufman                           Owner  FEMALE   \n",
       "...         ...              ...                             ...     ...   \n",
       "18151     Karla          Russell         Chief Operating Officer  FEMALE   \n",
       "18152     Keith         Robinson                        Pres-ceo    MALE   \n",
       "18153   Wallace          Daniels                           Owner    MALE   \n",
       "18154      Omar          Daniels                        Co-owner    MALE   \n",
       "18155     Helen  Zilvinskis-clar                          Member  FEMALE   \n",
       "\n",
       "       flag_owner  flag_presi_vicepresi  ...  \\\n",
       "0               1                     0  ...   \n",
       "1               0                     0  ...   \n",
       "2               1                     0  ...   \n",
       "3               1                     0  ...   \n",
       "4               1                     0  ...   \n",
       "...           ...                   ...  ...   \n",
       "18151           0                     0  ...   \n",
       "18152           0                     0  ...   \n",
       "18153           1                     0  ...   \n",
       "18154           0                     0  ...   \n",
       "18155           0                     0  ...   \n",
       "\n",
       "                                             naics_name  \\\n",
       "0                     Health Care and Social Assistance   \n",
       "1      Professional, Scientific, and Technical Services   \n",
       "2      Professional, Scientific, and Technical Services   \n",
       "3      Professional, Scientific, and Technical Services   \n",
       "4      Professional, Scientific, and Technical Services   \n",
       "...                                                 ...   \n",
       "18151     Other Services (except Public Administration)   \n",
       "18152  Professional, Scientific, and Technical Services   \n",
       "18153  Professional, Scientific, and Technical Services   \n",
       "18154  Professional, Scientific, and Technical Services   \n",
       "18155  Professional, Scientific, and Technical Services   \n",
       "\n",
       "       flag_executive_reported         geoid   prop_nwh  \\\n",
       "0                            1  5.105948e+10  26.602177   \n",
       "1                            1  5.105948e+10  20.372268   \n",
       "2                            1  5.105948e+10  20.372268   \n",
       "3                            1  5.105949e+10  19.153605   \n",
       "4                            1  5.105942e+10  36.208236   \n",
       "...                        ...           ...        ...   \n",
       "18151                        1  5.105948e+10  34.302699   \n",
       "18152                        1  5.105942e+10  62.402930   \n",
       "18153                        1  5.105942e+10  60.324061   \n",
       "18154                        1  5.105942e+10  60.324061   \n",
       "18155                        1  5.105946e+10  48.968879   \n",
       "\n",
       "                       geometry  prob_spacy prob_gt prob_ld prob_nw_rbert  \\\n",
       "0      c(-77.324596, 38.999535)    0.999995     0.0       1      0.819709   \n",
       "1      c(-77.389534, 38.994397)    0.000000     0.0       0      0.201729   \n",
       "2      c(-77.389534, 38.994397)    0.000000     0.0       0      0.402071   \n",
       "3        c(-77.460635, 38.8639)    0.999994     0.0       1      0.023717   \n",
       "4       c(-77.08656, 38.777228)    0.999673     0.0       1      0.036510   \n",
       "...                         ...         ...     ...     ...           ...   \n",
       "18151  c(-77.331479, 38.948677)    0.000000     0.0       0           NaN   \n",
       "18152  c(-77.230478, 38.707725)    0.999673     0.0       1           NaN   \n",
       "18153    c(-77.097715, 38.7433)    0.000000     0.0       0           NaN   \n",
       "18154    c(-77.097715, 38.7433)    0.000000     0.0       0           NaN   \n",
       "18155  c(-77.263561, 38.875946)    0.999673     0.0       1           NaN   \n",
       "\n",
       "      prob_nw_rethn  \n",
       "0          0.809268  \n",
       "1          0.534265  \n",
       "2          0.670843  \n",
       "3          0.210296  \n",
       "4          0.159237  \n",
       "...             ...  \n",
       "18151      0.800575  \n",
       "18152      0.906111  \n",
       "18153      0.872609  \n",
       "18154      0.975594  \n",
       "18155      0.120278  \n",
       "\n",
       "[18156 rows x 42 columns]"
      ]
     },
     "execution_count": 2,
     "metadata": {},
     "output_type": "execute_result"
    }
   ],
   "source": [
    "final_data = pd.read_csv(\"../../data/mergent_and_library/final_data_v2.csv\")\n",
    "final_data"
   ]
  },
  {
   "cell_type": "code",
   "execution_count": 3,
   "metadata": {},
   "outputs": [
    {
     "data": {
      "text/plain": [
       "Index(['X', 'Unnamed..0', 'duns', 'company_name', 'firstname', 'lastname',\n",
       "       'title', 'gender', 'flag_owner', 'flag_presi_vicepresi',\n",
       "       'prob_nw_eth_wiki', 'prob_nw_eth_fl_reg_name',\n",
       "       'prob_nw_eth_fl_five_cat', 'prob_nw_eth_census_fn',\n",
       "       'prob_nw_eth_census_ln', 'prob_nw_eth_nc', 'company_name0', 'address',\n",
       "       'city', 'state', 'zipcode', 'flag_mergent', 'pos', 'flag_axle',\n",
       "       'flag_sbsd', 'flag_chamber', 'flag_yelp', 'flag_listing',\n",
       "       'flag_mergent_plus_listing', 'founding_year', 'primary_naics', 'naics2',\n",
       "       'naics_name', 'flag_executive_reported', 'geoid', 'prop_nwh',\n",
       "       'geometry', 'prob_spacy', 'prob_gt', 'prob_ld', 'prob_nw_rbert',\n",
       "       'prob_nw_rethn'],\n",
       "      dtype='object')"
      ]
     },
     "execution_count": 3,
     "metadata": {},
     "output_type": "execute_result"
    }
   ],
   "source": [
    "final_data.columns"
   ]
  },
  {
   "cell_type": "code",
   "execution_count": 4,
   "metadata": {},
   "outputs": [],
   "source": [
    "varlist=['duns', 'flag_owner', 'flag_mergent_plus_listing','flag_mergent', 'flag_listing', 'founding_year','naics2', 'prop_nwh', 'prob_nw_eth_wiki', 'prob_nw_eth_fl_reg_name',\n",
    "       'prob_nw_eth_fl_five_cat', 'prob_nw_eth_census_fn',\n",
    "       'prob_nw_eth_census_ln', 'prob_nw_eth_nc','prob_spacy', 'prob_gt', 'prob_ld', 'prob_nw_rbert',\n",
    "       'prob_nw_rethn']\n",
    "\n",
    "data = final_data[varlist]"
   ]
  },
  {
   "cell_type": "code",
   "execution_count": 5,
   "metadata": {},
   "outputs": [
    {
     "name": "stdout",
     "output_type": "stream",
     "text": [
      "number of observation 18156\n"
     ]
    },
    {
     "data": {
      "text/plain": [
       "duns                             0\n",
       "flag_owner                       0\n",
       "flag_mergent_plus_listing        0\n",
       "flag_mergent                     0\n",
       "flag_listing                     0\n",
       "founding_year                    9\n",
       "naics2                           0\n",
       "prop_nwh                       280\n",
       "prob_nw_eth_wiki              1846\n",
       "prob_nw_eth_fl_reg_name       3380\n",
       "prob_nw_eth_fl_five_cat      11800\n",
       "prob_nw_eth_census_fn        13625\n",
       "prob_nw_eth_census_ln         7959\n",
       "prob_nw_eth_nc               11800\n",
       "prob_spacy                       0\n",
       "prob_gt                          0\n",
       "prob_ld                          0\n",
       "prob_nw_rbert                14724\n",
       "prob_nw_rethn                    0\n",
       "dtype: int64"
      ]
     },
     "execution_count": 5,
     "metadata": {},
     "output_type": "execute_result"
    }
   ],
   "source": [
    "print('number of observation',len(data))\n",
    "data.isna().sum()"
   ]
  },
  {
   "cell_type": "code",
   "execution_count": 6,
   "metadata": {},
   "outputs": [
    {
     "name": "stdout",
     "output_type": "stream",
     "text": [
      "number of observation 18156\n"
     ]
    },
    {
     "data": {
      "text/plain": [
       "duns                             0\n",
       "flag_owner                       0\n",
       "flag_mergent_plus_listing        0\n",
       "flag_mergent                     0\n",
       "flag_listing                     0\n",
       "founding_year                    7\n",
       "naics2                           0\n",
       "prop_nwh                         0\n",
       "prob_nw_eth_wiki              1818\n",
       "prob_nw_eth_fl_reg_name       3324\n",
       "prob_nw_eth_fl_five_cat      11591\n",
       "prob_nw_eth_census_fn        13397\n",
       "prob_nw_eth_census_ln         7810\n",
       "prob_nw_eth_nc               11591\n",
       "prob_spacy                       0\n",
       "prob_gt                          0\n",
       "prob_ld                          0\n",
       "prob_nw_rbert                14504\n",
       "prob_nw_rethn                    0\n",
       "dtype: int64"
      ]
     },
     "execution_count": 6,
     "metadata": {},
     "output_type": "execute_result"
    }
   ],
   "source": [
    "print('number of observation',len(data))\n",
    "df1 = data[pd.notna(data['prop_nwh'])]\n",
    "df1.isna().sum()"
   ]
  },
  {
   "cell_type": "code",
   "execution_count": 7,
   "metadata": {},
   "outputs": [
    {
     "data": {
      "text/html": [
       "<div>\n",
       "<style scoped>\n",
       "    .dataframe tbody tr th:only-of-type {\n",
       "        vertical-align: middle;\n",
       "    }\n",
       "\n",
       "    .dataframe tbody tr th {\n",
       "        vertical-align: top;\n",
       "    }\n",
       "\n",
       "    .dataframe thead th {\n",
       "        text-align: right;\n",
       "    }\n",
       "</style>\n",
       "<table border=\"1\" class=\"dataframe\">\n",
       "  <thead>\n",
       "    <tr style=\"text-align: right;\">\n",
       "      <th></th>\n",
       "      <th>duns</th>\n",
       "      <th>flag_owner</th>\n",
       "      <th>flag_mergent_plus_listing</th>\n",
       "      <th>flag_mergent</th>\n",
       "      <th>flag_listing</th>\n",
       "      <th>founding_year</th>\n",
       "      <th>naics2</th>\n",
       "      <th>prop_nwh</th>\n",
       "      <th>prob_nw_eth_wiki</th>\n",
       "      <th>prob_nw_eth_fl_reg_name</th>\n",
       "      <th>prob_nw_eth_fl_five_cat</th>\n",
       "      <th>prob_nw_eth_census_fn</th>\n",
       "      <th>prob_nw_eth_census_ln</th>\n",
       "      <th>prob_nw_eth_nc</th>\n",
       "      <th>prob_spacy</th>\n",
       "      <th>prob_gt</th>\n",
       "      <th>prob_ld</th>\n",
       "      <th>prob_nw_rbert</th>\n",
       "      <th>prob_nw_rethn</th>\n",
       "    </tr>\n",
       "  </thead>\n",
       "  <tbody>\n",
       "    <tr>\n",
       "      <th>0</th>\n",
       "      <td>00-138-3244</td>\n",
       "      <td>1</td>\n",
       "      <td>0</td>\n",
       "      <td>0</td>\n",
       "      <td>0</td>\n",
       "      <td>2002.0</td>\n",
       "      <td>62</td>\n",
       "      <td>26.602177</td>\n",
       "      <td>0.917946</td>\n",
       "      <td>0.621173</td>\n",
       "      <td>NaN</td>\n",
       "      <td>NaN</td>\n",
       "      <td>0.339193</td>\n",
       "      <td>NaN</td>\n",
       "      <td>0.999995</td>\n",
       "      <td>0.0</td>\n",
       "      <td>1</td>\n",
       "      <td>0.819709</td>\n",
       "      <td>0.809268</td>\n",
       "    </tr>\n",
       "    <tr>\n",
       "      <th>1</th>\n",
       "      <td>00-145-3948</td>\n",
       "      <td>0</td>\n",
       "      <td>0</td>\n",
       "      <td>0</td>\n",
       "      <td>0</td>\n",
       "      <td>2000.0</td>\n",
       "      <td>54</td>\n",
       "      <td>20.372268</td>\n",
       "      <td>NaN</td>\n",
       "      <td>NaN</td>\n",
       "      <td>NaN</td>\n",
       "      <td>NaN</td>\n",
       "      <td>NaN</td>\n",
       "      <td>NaN</td>\n",
       "      <td>0.000000</td>\n",
       "      <td>0.0</td>\n",
       "      <td>0</td>\n",
       "      <td>0.201729</td>\n",
       "      <td>0.534265</td>\n",
       "    </tr>\n",
       "    <tr>\n",
       "      <th>2</th>\n",
       "      <td>00-145-3948</td>\n",
       "      <td>1</td>\n",
       "      <td>0</td>\n",
       "      <td>0</td>\n",
       "      <td>0</td>\n",
       "      <td>2000.0</td>\n",
       "      <td>54</td>\n",
       "      <td>20.372268</td>\n",
       "      <td>NaN</td>\n",
       "      <td>NaN</td>\n",
       "      <td>NaN</td>\n",
       "      <td>NaN</td>\n",
       "      <td>NaN</td>\n",
       "      <td>NaN</td>\n",
       "      <td>0.000000</td>\n",
       "      <td>0.0</td>\n",
       "      <td>0</td>\n",
       "      <td>0.402071</td>\n",
       "      <td>0.670843</td>\n",
       "    </tr>\n",
       "    <tr>\n",
       "      <th>3</th>\n",
       "      <td>00-171-0412</td>\n",
       "      <td>1</td>\n",
       "      <td>0</td>\n",
       "      <td>0</td>\n",
       "      <td>0</td>\n",
       "      <td>1997.0</td>\n",
       "      <td>54</td>\n",
       "      <td>19.153605</td>\n",
       "      <td>0.087375</td>\n",
       "      <td>0.116998</td>\n",
       "      <td>NaN</td>\n",
       "      <td>NaN</td>\n",
       "      <td>NaN</td>\n",
       "      <td>NaN</td>\n",
       "      <td>0.999994</td>\n",
       "      <td>0.0</td>\n",
       "      <td>1</td>\n",
       "      <td>0.023717</td>\n",
       "      <td>0.210296</td>\n",
       "    </tr>\n",
       "    <tr>\n",
       "      <th>4</th>\n",
       "      <td>00-183-0152</td>\n",
       "      <td>1</td>\n",
       "      <td>0</td>\n",
       "      <td>0</td>\n",
       "      <td>0</td>\n",
       "      <td>1997.0</td>\n",
       "      <td>54</td>\n",
       "      <td>36.208236</td>\n",
       "      <td>0.957856</td>\n",
       "      <td>0.843029</td>\n",
       "      <td>NaN</td>\n",
       "      <td>NaN</td>\n",
       "      <td>NaN</td>\n",
       "      <td>NaN</td>\n",
       "      <td>0.999673</td>\n",
       "      <td>0.0</td>\n",
       "      <td>1</td>\n",
       "      <td>0.036510</td>\n",
       "      <td>0.159237</td>\n",
       "    </tr>\n",
       "    <tr>\n",
       "      <th>...</th>\n",
       "      <td>...</td>\n",
       "      <td>...</td>\n",
       "      <td>...</td>\n",
       "      <td>...</td>\n",
       "      <td>...</td>\n",
       "      <td>...</td>\n",
       "      <td>...</td>\n",
       "      <td>...</td>\n",
       "      <td>...</td>\n",
       "      <td>...</td>\n",
       "      <td>...</td>\n",
       "      <td>...</td>\n",
       "      <td>...</td>\n",
       "      <td>...</td>\n",
       "      <td>...</td>\n",
       "      <td>...</td>\n",
       "      <td>...</td>\n",
       "      <td>...</td>\n",
       "      <td>...</td>\n",
       "    </tr>\n",
       "    <tr>\n",
       "      <th>18151</th>\n",
       "      <td>96-994-4219</td>\n",
       "      <td>0</td>\n",
       "      <td>0</td>\n",
       "      <td>0</td>\n",
       "      <td>0</td>\n",
       "      <td>2011.0</td>\n",
       "      <td>81</td>\n",
       "      <td>34.302699</td>\n",
       "      <td>0.747244</td>\n",
       "      <td>0.962319</td>\n",
       "      <td>0.595566</td>\n",
       "      <td>0.602393</td>\n",
       "      <td>0.011384</td>\n",
       "      <td>0.566017</td>\n",
       "      <td>0.000000</td>\n",
       "      <td>0.0</td>\n",
       "      <td>0</td>\n",
       "      <td>NaN</td>\n",
       "      <td>0.800575</td>\n",
       "    </tr>\n",
       "    <tr>\n",
       "      <th>18152</th>\n",
       "      <td>96-995-4812</td>\n",
       "      <td>0</td>\n",
       "      <td>0</td>\n",
       "      <td>0</td>\n",
       "      <td>0</td>\n",
       "      <td>2011.0</td>\n",
       "      <td>54</td>\n",
       "      <td>62.402930</td>\n",
       "      <td>NaN</td>\n",
       "      <td>NaN</td>\n",
       "      <td>NaN</td>\n",
       "      <td>NaN</td>\n",
       "      <td>NaN</td>\n",
       "      <td>NaN</td>\n",
       "      <td>0.999673</td>\n",
       "      <td>0.0</td>\n",
       "      <td>1</td>\n",
       "      <td>NaN</td>\n",
       "      <td>0.906111</td>\n",
       "    </tr>\n",
       "    <tr>\n",
       "      <th>18153</th>\n",
       "      <td>96-996-0488</td>\n",
       "      <td>1</td>\n",
       "      <td>1</td>\n",
       "      <td>1</td>\n",
       "      <td>0</td>\n",
       "      <td>2011.0</td>\n",
       "      <td>54</td>\n",
       "      <td>60.324061</td>\n",
       "      <td>0.064103</td>\n",
       "      <td>0.202185</td>\n",
       "      <td>0.389103</td>\n",
       "      <td>0.199878</td>\n",
       "      <td>0.096081</td>\n",
       "      <td>0.267925</td>\n",
       "      <td>0.000000</td>\n",
       "      <td>0.0</td>\n",
       "      <td>0</td>\n",
       "      <td>NaN</td>\n",
       "      <td>0.872609</td>\n",
       "    </tr>\n",
       "    <tr>\n",
       "      <th>18154</th>\n",
       "      <td>96-996-0488</td>\n",
       "      <td>0</td>\n",
       "      <td>1</td>\n",
       "      <td>1</td>\n",
       "      <td>0</td>\n",
       "      <td>2011.0</td>\n",
       "      <td>54</td>\n",
       "      <td>60.324061</td>\n",
       "      <td>0.022954</td>\n",
       "      <td>0.134204</td>\n",
       "      <td>0.373937</td>\n",
       "      <td>0.248325</td>\n",
       "      <td>0.126127</td>\n",
       "      <td>0.552511</td>\n",
       "      <td>0.000000</td>\n",
       "      <td>0.0</td>\n",
       "      <td>0</td>\n",
       "      <td>NaN</td>\n",
       "      <td>0.975594</td>\n",
       "    </tr>\n",
       "    <tr>\n",
       "      <th>18155</th>\n",
       "      <td>96-998-7424</td>\n",
       "      <td>0</td>\n",
       "      <td>0</td>\n",
       "      <td>0</td>\n",
       "      <td>0</td>\n",
       "      <td>2011.0</td>\n",
       "      <td>54</td>\n",
       "      <td>48.968879</td>\n",
       "      <td>0.986989</td>\n",
       "      <td>0.861210</td>\n",
       "      <td>NaN</td>\n",
       "      <td>NaN</td>\n",
       "      <td>0.608285</td>\n",
       "      <td>NaN</td>\n",
       "      <td>0.999673</td>\n",
       "      <td>0.0</td>\n",
       "      <td>1</td>\n",
       "      <td>NaN</td>\n",
       "      <td>0.120278</td>\n",
       "    </tr>\n",
       "  </tbody>\n",
       "</table>\n",
       "<p>17876 rows × 19 columns</p>\n",
       "</div>"
      ],
      "text/plain": [
       "              duns  flag_owner  flag_mergent_plus_listing  flag_mergent  \\\n",
       "0      00-138-3244           1                          0             0   \n",
       "1      00-145-3948           0                          0             0   \n",
       "2      00-145-3948           1                          0             0   \n",
       "3      00-171-0412           1                          0             0   \n",
       "4      00-183-0152           1                          0             0   \n",
       "...            ...         ...                        ...           ...   \n",
       "18151  96-994-4219           0                          0             0   \n",
       "18152  96-995-4812           0                          0             0   \n",
       "18153  96-996-0488           1                          1             1   \n",
       "18154  96-996-0488           0                          1             1   \n",
       "18155  96-998-7424           0                          0             0   \n",
       "\n",
       "       flag_listing  founding_year  naics2   prop_nwh  prob_nw_eth_wiki  \\\n",
       "0                 0         2002.0      62  26.602177          0.917946   \n",
       "1                 0         2000.0      54  20.372268               NaN   \n",
       "2                 0         2000.0      54  20.372268               NaN   \n",
       "3                 0         1997.0      54  19.153605          0.087375   \n",
       "4                 0         1997.0      54  36.208236          0.957856   \n",
       "...             ...            ...     ...        ...               ...   \n",
       "18151             0         2011.0      81  34.302699          0.747244   \n",
       "18152             0         2011.0      54  62.402930               NaN   \n",
       "18153             0         2011.0      54  60.324061          0.064103   \n",
       "18154             0         2011.0      54  60.324061          0.022954   \n",
       "18155             0         2011.0      54  48.968879          0.986989   \n",
       "\n",
       "       prob_nw_eth_fl_reg_name  prob_nw_eth_fl_five_cat  \\\n",
       "0                     0.621173                      NaN   \n",
       "1                          NaN                      NaN   \n",
       "2                          NaN                      NaN   \n",
       "3                     0.116998                      NaN   \n",
       "4                     0.843029                      NaN   \n",
       "...                        ...                      ...   \n",
       "18151                 0.962319                 0.595566   \n",
       "18152                      NaN                      NaN   \n",
       "18153                 0.202185                 0.389103   \n",
       "18154                 0.134204                 0.373937   \n",
       "18155                 0.861210                      NaN   \n",
       "\n",
       "       prob_nw_eth_census_fn  prob_nw_eth_census_ln  prob_nw_eth_nc  \\\n",
       "0                        NaN               0.339193             NaN   \n",
       "1                        NaN                    NaN             NaN   \n",
       "2                        NaN                    NaN             NaN   \n",
       "3                        NaN                    NaN             NaN   \n",
       "4                        NaN                    NaN             NaN   \n",
       "...                      ...                    ...             ...   \n",
       "18151               0.602393               0.011384        0.566017   \n",
       "18152                    NaN                    NaN             NaN   \n",
       "18153               0.199878               0.096081        0.267925   \n",
       "18154               0.248325               0.126127        0.552511   \n",
       "18155                    NaN               0.608285             NaN   \n",
       "\n",
       "       prob_spacy  prob_gt  prob_ld  prob_nw_rbert  prob_nw_rethn  \n",
       "0        0.999995      0.0        1       0.819709       0.809268  \n",
       "1        0.000000      0.0        0       0.201729       0.534265  \n",
       "2        0.000000      0.0        0       0.402071       0.670843  \n",
       "3        0.999994      0.0        1       0.023717       0.210296  \n",
       "4        0.999673      0.0        1       0.036510       0.159237  \n",
       "...           ...      ...      ...            ...            ...  \n",
       "18151    0.000000      0.0        0            NaN       0.800575  \n",
       "18152    0.999673      0.0        1            NaN       0.906111  \n",
       "18153    0.000000      0.0        0            NaN       0.872609  \n",
       "18154    0.000000      0.0        0            NaN       0.975594  \n",
       "18155    0.999673      0.0        1            NaN       0.120278  \n",
       "\n",
       "[17876 rows x 19 columns]"
      ]
     },
     "execution_count": 7,
     "metadata": {},
     "output_type": "execute_result"
    }
   ],
   "source": [
    "df1.loc[df1['prob_nw_eth_wiki'] == 1.0, 'prob_nw_eth_wiki'] = float(\"nan\")\n",
    "df1"
   ]
  },
  {
   "cell_type": "code",
   "execution_count": 8,
   "metadata": {},
   "outputs": [
    {
     "data": {
      "text/plain": [
       "flag_owner                      0\n",
       "flag_mergent_plus_listing       0\n",
       "flag_mergent                    0\n",
       "flag_listing                    0\n",
       "founding_year                   6\n",
       "naics2                          0\n",
       "prop_nwh                        0\n",
       "prob_nw_eth_wiki             1433\n",
       "prob_nw_eth_fl_reg_name      1433\n",
       "prob_nw_eth_fl_five_cat      8100\n",
       "prob_nw_eth_census_fn        9384\n",
       "prob_nw_eth_census_ln        5306\n",
       "prob_nw_eth_nc               8100\n",
       "prob_spacy                      0\n",
       "prob_gt                         0\n",
       "prob_ld                         0\n",
       "prob_nw_rbert                9197\n",
       "prob_nw_rethn                   0\n",
       "dtype: int64"
      ]
     },
     "execution_count": 8,
     "metadata": {},
     "output_type": "execute_result"
    }
   ],
   "source": [
    "# compute statistics by company (not by owner+company)\n",
    "df2 = df1.groupby(['duns']).mean(numeric_only=True)\n",
    "df2.isna().sum()"
   ]
  },
  {
   "cell_type": "code",
   "execution_count": 9,
   "metadata": {},
   "outputs": [],
   "source": [
    "# filter on founding year\n",
    "cutoff = 1964\n",
    "nonminority_filter = df2[df2['founding_year'] <= cutoff]\n",
    "nonminority_filter = nonminority_filter[nonminority_filter['founding_year'] != 0]"
   ]
  },
  {
   "cell_type": "code",
   "execution_count": 10,
   "metadata": {},
   "outputs": [
    {
     "name": "stdout",
     "output_type": "stream",
     "text": [
      "number of company in mergent: 12123\n",
      "number of minority-owned: 442\n",
      "number of non minority-owned: 69\n",
      "error made by mergent: 39.473684210526315\n"
     ]
    }
   ],
   "source": [
    "# EDA of the data\n",
    "print('number of company in mergent:',len(df2))\n",
    "print('number of minority-owned:',len(df2[df2['flag_mergent_plus_listing']==1]))\n",
    "print('number of non minority-owned:',len(nonminority_filter))\n",
    "print('error made by mergent:', (len(df2[(df2['flag_listing'] == 1) & (df2['flag_mergent'] == 0)]))*100 / len(df2[df2['flag_listing'] == 1]))"
   ]
  },
  {
   "cell_type": "markdown",
   "metadata": {},
   "source": [
    "# Modeling data"
   ]
  },
  {
   "cell_type": "code",
   "execution_count": 11,
   "metadata": {},
   "outputs": [
    {
     "data": {
      "text/html": [
       "<div>\n",
       "<style scoped>\n",
       "    .dataframe tbody tr th:only-of-type {\n",
       "        vertical-align: middle;\n",
       "    }\n",
       "\n",
       "    .dataframe tbody tr th {\n",
       "        vertical-align: top;\n",
       "    }\n",
       "\n",
       "    .dataframe thead th {\n",
       "        text-align: right;\n",
       "    }\n",
       "</style>\n",
       "<table border=\"1\" class=\"dataframe\">\n",
       "  <thead>\n",
       "    <tr style=\"text-align: right;\">\n",
       "      <th></th>\n",
       "      <th>flag_owner</th>\n",
       "      <th>flag_mergent_plus_listing</th>\n",
       "      <th>flag_mergent</th>\n",
       "      <th>flag_listing</th>\n",
       "      <th>founding_year</th>\n",
       "      <th>naics2</th>\n",
       "      <th>prop_nwh</th>\n",
       "      <th>prob_nw_eth_wiki</th>\n",
       "      <th>prob_nw_eth_fl_reg_name</th>\n",
       "      <th>prob_nw_eth_fl_five_cat</th>\n",
       "      <th>prob_nw_eth_census_fn</th>\n",
       "      <th>prob_nw_eth_census_ln</th>\n",
       "      <th>prob_nw_eth_nc</th>\n",
       "      <th>prob_spacy</th>\n",
       "      <th>prob_gt</th>\n",
       "      <th>prob_ld</th>\n",
       "      <th>prob_nw_rbert</th>\n",
       "      <th>prob_nw_rethn</th>\n",
       "    </tr>\n",
       "    <tr>\n",
       "      <th>duns</th>\n",
       "      <th></th>\n",
       "      <th></th>\n",
       "      <th></th>\n",
       "      <th></th>\n",
       "      <th></th>\n",
       "      <th></th>\n",
       "      <th></th>\n",
       "      <th></th>\n",
       "      <th></th>\n",
       "      <th></th>\n",
       "      <th></th>\n",
       "      <th></th>\n",
       "      <th></th>\n",
       "      <th></th>\n",
       "      <th></th>\n",
       "      <th></th>\n",
       "      <th></th>\n",
       "      <th></th>\n",
       "    </tr>\n",
       "  </thead>\n",
       "  <tbody>\n",
       "    <tr>\n",
       "      <th>00-490-4579</th>\n",
       "      <td>0.0</td>\n",
       "      <td>0.0</td>\n",
       "      <td>0.0</td>\n",
       "      <td>0.0</td>\n",
       "      <td>1951.0</td>\n",
       "      <td>48.0</td>\n",
       "      <td>19.603425</td>\n",
       "      <td>0.133032</td>\n",
       "      <td>0.282486</td>\n",
       "      <td>NaN</td>\n",
       "      <td>NaN</td>\n",
       "      <td>0.695196</td>\n",
       "      <td>NaN</td>\n",
       "      <td>0.999994</td>\n",
       "      <td>0.0</td>\n",
       "      <td>1.0</td>\n",
       "      <td>0.388712</td>\n",
       "      <td>0.364378</td>\n",
       "    </tr>\n",
       "    <tr>\n",
       "      <th>01-664-4866</th>\n",
       "      <td>0.0</td>\n",
       "      <td>0.0</td>\n",
       "      <td>0.0</td>\n",
       "      <td>0.0</td>\n",
       "      <td>1957.0</td>\n",
       "      <td>81.0</td>\n",
       "      <td>16.278582</td>\n",
       "      <td>0.308368</td>\n",
       "      <td>0.990056</td>\n",
       "      <td>0.996808</td>\n",
       "      <td>0.212395</td>\n",
       "      <td>0.210200</td>\n",
       "      <td>0.975138</td>\n",
       "      <td>0.999835</td>\n",
       "      <td>0.0</td>\n",
       "      <td>1.0</td>\n",
       "      <td>NaN</td>\n",
       "      <td>0.552304</td>\n",
       "    </tr>\n",
       "    <tr>\n",
       "      <th>02-030-1743</th>\n",
       "      <td>0.0</td>\n",
       "      <td>0.0</td>\n",
       "      <td>0.0</td>\n",
       "      <td>0.0</td>\n",
       "      <td>1950.0</td>\n",
       "      <td>23.0</td>\n",
       "      <td>28.785951</td>\n",
       "      <td>NaN</td>\n",
       "      <td>NaN</td>\n",
       "      <td>NaN</td>\n",
       "      <td>NaN</td>\n",
       "      <td>NaN</td>\n",
       "      <td>NaN</td>\n",
       "      <td>0.999992</td>\n",
       "      <td>0.0</td>\n",
       "      <td>1.0</td>\n",
       "      <td>NaN</td>\n",
       "      <td>0.554421</td>\n",
       "    </tr>\n",
       "    <tr>\n",
       "      <th>02-363-7416</th>\n",
       "      <td>0.0</td>\n",
       "      <td>0.0</td>\n",
       "      <td>0.0</td>\n",
       "      <td>0.0</td>\n",
       "      <td>1959.0</td>\n",
       "      <td>44.0</td>\n",
       "      <td>66.913727</td>\n",
       "      <td>0.364197</td>\n",
       "      <td>0.400813</td>\n",
       "      <td>NaN</td>\n",
       "      <td>NaN</td>\n",
       "      <td>NaN</td>\n",
       "      <td>NaN</td>\n",
       "      <td>0.999833</td>\n",
       "      <td>0.0</td>\n",
       "      <td>1.0</td>\n",
       "      <td>NaN</td>\n",
       "      <td>0.252118</td>\n",
       "    </tr>\n",
       "    <tr>\n",
       "      <th>02-380-6391</th>\n",
       "      <td>0.0</td>\n",
       "      <td>0.0</td>\n",
       "      <td>0.0</td>\n",
       "      <td>0.0</td>\n",
       "      <td>1941.0</td>\n",
       "      <td>23.0</td>\n",
       "      <td>57.698764</td>\n",
       "      <td>0.081215</td>\n",
       "      <td>0.015678</td>\n",
       "      <td>0.945481</td>\n",
       "      <td>NaN</td>\n",
       "      <td>0.964284</td>\n",
       "      <td>0.755374</td>\n",
       "      <td>0.999832</td>\n",
       "      <td>0.0</td>\n",
       "      <td>1.0</td>\n",
       "      <td>NaN</td>\n",
       "      <td>0.963356</td>\n",
       "    </tr>\n",
       "  </tbody>\n",
       "</table>\n",
       "</div>"
      ],
      "text/plain": [
       "             flag_owner  flag_mergent_plus_listing  flag_mergent  \\\n",
       "duns                                                               \n",
       "00-490-4579         0.0                        0.0           0.0   \n",
       "01-664-4866         0.0                        0.0           0.0   \n",
       "02-030-1743         0.0                        0.0           0.0   \n",
       "02-363-7416         0.0                        0.0           0.0   \n",
       "02-380-6391         0.0                        0.0           0.0   \n",
       "\n",
       "             flag_listing  founding_year  naics2   prop_nwh  prob_nw_eth_wiki  \\\n",
       "duns                                                                            \n",
       "00-490-4579           0.0         1951.0    48.0  19.603425          0.133032   \n",
       "01-664-4866           0.0         1957.0    81.0  16.278582          0.308368   \n",
       "02-030-1743           0.0         1950.0    23.0  28.785951               NaN   \n",
       "02-363-7416           0.0         1959.0    44.0  66.913727          0.364197   \n",
       "02-380-6391           0.0         1941.0    23.0  57.698764          0.081215   \n",
       "\n",
       "             prob_nw_eth_fl_reg_name  prob_nw_eth_fl_five_cat  \\\n",
       "duns                                                            \n",
       "00-490-4579                 0.282486                      NaN   \n",
       "01-664-4866                 0.990056                 0.996808   \n",
       "02-030-1743                      NaN                      NaN   \n",
       "02-363-7416                 0.400813                      NaN   \n",
       "02-380-6391                 0.015678                 0.945481   \n",
       "\n",
       "             prob_nw_eth_census_fn  prob_nw_eth_census_ln  prob_nw_eth_nc  \\\n",
       "duns                                                                        \n",
       "00-490-4579                    NaN               0.695196             NaN   \n",
       "01-664-4866               0.212395               0.210200        0.975138   \n",
       "02-030-1743                    NaN                    NaN             NaN   \n",
       "02-363-7416                    NaN                    NaN             NaN   \n",
       "02-380-6391                    NaN               0.964284        0.755374   \n",
       "\n",
       "             prob_spacy  prob_gt  prob_ld  prob_nw_rbert  prob_nw_rethn  \n",
       "duns                                                                     \n",
       "00-490-4579    0.999994      0.0      1.0       0.388712       0.364378  \n",
       "01-664-4866    0.999835      0.0      1.0            NaN       0.552304  \n",
       "02-030-1743    0.999992      0.0      1.0            NaN       0.554421  \n",
       "02-363-7416    0.999833      0.0      1.0            NaN       0.252118  \n",
       "02-380-6391    0.999832      0.0      1.0            NaN       0.963356  "
      ]
     },
     "execution_count": 11,
     "metadata": {},
     "output_type": "execute_result"
    }
   ],
   "source": [
    "# build the sample\n",
    "n = len(nonminority_filter)\n",
    "subset = df2[df2['flag_mergent_plus_listing']==1].sample(n,replace=False)\n",
    "sample = pd.concat([nonminority_filter, subset])\n",
    "sample.head()"
   ]
  },
  {
   "cell_type": "markdown",
   "metadata": {},
   "source": [
    "# EDA"
   ]
  },
  {
   "cell_type": "code",
   "execution_count": 12,
   "metadata": {},
   "outputs": [],
   "source": [
    "#Build the label\n",
    "sample.loc[sample['flag_mergent']==1,'ownership'] = 'minority'\n",
    "sample.loc[sample['flag_mergent']==0,'ownership'] = 'non-minority'"
   ]
  },
  {
   "cell_type": "code",
   "execution_count": 13,
   "metadata": {},
   "outputs": [
    {
     "data": {
      "text/plain": [
       "<AxesSubplot:xlabel='ownership', ylabel='prob_nw_eth_wiki'>"
      ]
     },
     "execution_count": 13,
     "metadata": {},
     "output_type": "execute_result"
    },
    {
     "data": {
      "image/png": "[encoded data removed]",
      "text/plain": [
       "<Figure size 432x288 with 1 Axes>"
      ]
     },
     "metadata": {
      "needs_background": "light"
     },
     "output_type": "display_data"
    }
   ],
   "source": [
    "# boxplot of the average prob to be non-white for wiki \n",
    "sns.boxplot( x=sample[\"ownership\"], y=sample[\"prob_nw_eth_wiki\"] )"
   ]
  },
  {
   "cell_type": "code",
   "execution_count": 14,
   "metadata": {},
   "outputs": [
    {
     "data": {
      "text/plain": [
       "<AxesSubplot:xlabel='ownership', ylabel='prob_nw_rbert'>"
      ]
     },
     "execution_count": 14,
     "metadata": {},
     "output_type": "execute_result"
    },
    {
     "data": {
      "image/png": "[encoded data removed]",
      "text/plain": [
       "<Figure size 432x288 with 1 Axes>"
      ]
     },
     "metadata": {
      "needs_background": "light"
     },
     "output_type": "display_data"
    }
   ],
   "source": [
    "# boxplot of the average prob to be non-white for racebert\n",
    "sns.boxplot( x=sample[\"ownership\"], y=sample[\"prob_nw_rbert\"] )"
   ]
  },
  {
   "cell_type": "code",
   "execution_count": 15,
   "metadata": {},
   "outputs": [
    {
     "data": {
      "text/plain": [
       "<AxesSubplot:xlabel='ownership', ylabel='prob_nw_rethn'>"
      ]
     },
     "execution_count": 15,
     "metadata": {},
     "output_type": "execute_result"
    },
    {
     "data": {
      "image/png": "[encoded data removed]",
      "text/plain": [
       "<Figure size 432x288 with 1 Axes>"
      ]
     },
     "metadata": {
      "needs_background": "light"
     },
     "output_type": "display_data"
    }
   ],
   "source": [
    "# boxplot of the average prob to be non-white for rethinicity\n",
    "sns.boxplot( x=sample[\"ownership\"], y=sample[\"prob_nw_rethn\"] )"
   ]
  },
  {
   "cell_type": "code",
   "execution_count": 16,
   "metadata": {},
   "outputs": [
    {
     "data": {
      "text/plain": [
       "<AxesSubplot:xlabel='ownership', ylabel='prop_nwh'>"
      ]
     },
     "execution_count": 16,
     "metadata": {},
     "output_type": "execute_result"
    },
    {
     "data": {
      "image/png": "[encoded data removed]",
      "text/plain": [
       "<Figure size 432x288 with 1 Axes>"
      ]
     },
     "metadata": {
      "needs_background": "light"
     },
     "output_type": "display_data"
    }
   ],
   "source": [
    "# boxplot of the average prob to be non-white for population\n",
    "sns.boxplot( x=sample[\"ownership\"], y=sample[\"prop_nwh\"] )"
   ]
  },
  {
   "cell_type": "code",
   "execution_count": 17,
   "metadata": {},
   "outputs": [
    {
     "data": {
      "text/plain": [
       "<AxesSubplot:xlabel='ownership', ylabel='prob_ld'>"
      ]
     },
     "execution_count": 17,
     "metadata": {},
     "output_type": "execute_result"
    },
    {
     "data": {
      "image/png": "[encoded data removed]",
      "text/plain": [
       "<Figure size 432x288 with 1 Axes>"
      ]
     },
     "metadata": {
      "needs_background": "light"
     },
     "output_type": "display_data"
    }
   ],
   "source": [
    "# boxplot of the average prob to be non-white for population\n",
    "sns.boxplot( x=sample[\"ownership\"], y=sample[\"prob_ld\"] )"
   ]
  },
  {
   "cell_type": "code",
   "execution_count": 18,
   "metadata": {},
   "outputs": [
    {
     "data": {
      "text/plain": [
       "<AxesSubplot:xlabel='ownership', ylabel='prob_spacy'>"
      ]
     },
     "execution_count": 18,
     "metadata": {},
     "output_type": "execute_result"
    },
    {
     "data": {
      "image/png": "[encoded data removed]",
      "text/plain": [
       "<Figure size 432x288 with 1 Axes>"
      ]
     },
     "metadata": {
      "needs_background": "light"
     },
     "output_type": "display_data"
    }
   ],
   "source": [
    "# boxplot of the average prob to be non-white for population\n",
    "sns.boxplot( x=sample[\"ownership\"], y=sample[\"prob_spacy\"] )"
   ]
  },
  {
   "cell_type": "code",
   "execution_count": 19,
   "metadata": {},
   "outputs": [
    {
     "data": {
      "text/plain": [
       "<AxesSubplot:xlabel='ownership', ylabel='prob_gt'>"
      ]
     },
     "execution_count": 19,
     "metadata": {},
     "output_type": "execute_result"
    },
    {
     "data": {
      "image/png": "[encoded data removed]",
      "text/plain": [
       "<Figure size 432x288 with 1 Axes>"
      ]
     },
     "metadata": {
      "needs_background": "light"
     },
     "output_type": "display_data"
    }
   ],
   "source": [
    "# boxplot of the average prob to be non-white for population\n",
    "sns.boxplot( x=sample[\"ownership\"], y=sample[\"prob_gt\"] )"
   ]
  },
  {
   "cell_type": "markdown",
   "metadata": {},
   "source": [
    "# Build and Train a classifier"
   ]
  },
  {
   "cell_type": "code",
   "execution_count": 20,
   "metadata": {},
   "outputs": [],
   "source": [
    "# Decison Tree #1. with companies not filtered to pre 1964\n",
    "feature_cols = [\"prob_nw_rbert\", \"prob_nw_rethn\", \"prop_nwh\", \"prob_ld\", \"naics2\"]\n",
    "Y = sample['flag_mergent_plus_listing']\n",
    "X = [feature_cols]"
   ]
  },
  {
   "cell_type": "code",
   "execution_count": 21,
   "metadata": {},
   "outputs": [
    {
     "ename": "ValueError",
     "evalue": "could not convert string to float: 'prob_nw_rbert'",
     "output_type": "error",
     "traceback": [
      "\u001b[0;31m---------------------------------------------------------------------------\u001b[0m",
      "\u001b[0;31mValueError\u001b[0m                                Traceback (most recent call last)",
      "\u001b[0;32m<ipython-input-21-a3a813f9d4e1>\u001b[0m in \u001b[0;36m<module>\u001b[0;34m\u001b[0m\n\u001b[1;32m      3\u001b[0m \u001b[0;34m\u001b[0m\u001b[0m\n\u001b[1;32m      4\u001b[0m \u001b[0;31m# Train Decision Tree Classifer\u001b[0m\u001b[0;34m\u001b[0m\u001b[0;34m\u001b[0m\u001b[0;34m\u001b[0m\u001b[0m\n\u001b[0;32m----> 5\u001b[0;31m \u001b[0mclf\u001b[0m \u001b[0;34m=\u001b[0m \u001b[0mclassifier\u001b[0m\u001b[0;34m.\u001b[0m\u001b[0mfit\u001b[0m\u001b[0;34m(\u001b[0m\u001b[0mX\u001b[0m\u001b[0;34m,\u001b[0m\u001b[0mY\u001b[0m\u001b[0;34m)\u001b[0m\u001b[0;34m\u001b[0m\u001b[0;34m\u001b[0m\u001b[0m\n\u001b[0m",
      "\u001b[0;32m~/.local/lib/python3.8/site-packages/sklearn/base.py\u001b[0m in \u001b[0;36mwrapper\u001b[0;34m(estimator, *args, **kwargs)\u001b[0m\n\u001b[1;32m   1149\u001b[0m                 )\n\u001b[1;32m   1150\u001b[0m             ):\n\u001b[0;32m-> 1151\u001b[0;31m                 \u001b[0;32mreturn\u001b[0m \u001b[0mfit_method\u001b[0m\u001b[0;34m(\u001b[0m\u001b[0mestimator\u001b[0m\u001b[0;34m,\u001b[0m \u001b[0;34m*\u001b[0m\u001b[0margs\u001b[0m\u001b[0;34m,\u001b[0m \u001b[0;34m**\u001b[0m\u001b[0mkwargs\u001b[0m\u001b[0;34m)\u001b[0m\u001b[0;34m\u001b[0m\u001b[0;34m\u001b[0m\u001b[0m\n\u001b[0m\u001b[1;32m   1152\u001b[0m \u001b[0;34m\u001b[0m\u001b[0m\n\u001b[1;32m   1153\u001b[0m         \u001b[0;32mreturn\u001b[0m \u001b[0mwrapper\u001b[0m\u001b[0;34m\u001b[0m\u001b[0;34m\u001b[0m\u001b[0m\n",
      "\u001b[0;32m~/.local/lib/python3.8/site-packages/sklearn/tree/_classes.py\u001b[0m in \u001b[0;36mfit\u001b[0;34m(self, X, y, sample_weight, check_input)\u001b[0m\n\u001b[1;32m    957\u001b[0m         \"\"\"\n\u001b[1;32m    958\u001b[0m \u001b[0;34m\u001b[0m\u001b[0m\n\u001b[0;32m--> 959\u001b[0;31m         super()._fit(\n\u001b[0m\u001b[1;32m    960\u001b[0m             \u001b[0mX\u001b[0m\u001b[0;34m,\u001b[0m\u001b[0;34m\u001b[0m\u001b[0;34m\u001b[0m\u001b[0m\n\u001b[1;32m    961\u001b[0m             \u001b[0my\u001b[0m\u001b[0;34m,\u001b[0m\u001b[0;34m\u001b[0m\u001b[0;34m\u001b[0m\u001b[0m\n",
      "\u001b[0;32m~/.local/lib/python3.8/site-packages/sklearn/tree/_classes.py\u001b[0m in \u001b[0;36m_fit\u001b[0;34m(self, X, y, sample_weight, check_input, missing_values_in_feature_mask)\u001b[0m\n\u001b[1;32m    240\u001b[0m             )\n\u001b[1;32m    241\u001b[0m             \u001b[0mcheck_y_params\u001b[0m \u001b[0;34m=\u001b[0m \u001b[0mdict\u001b[0m\u001b[0;34m(\u001b[0m\u001b[0mensure_2d\u001b[0m\u001b[0;34m=\u001b[0m\u001b[0;32mFalse\u001b[0m\u001b[0;34m,\u001b[0m \u001b[0mdtype\u001b[0m\u001b[0;34m=\u001b[0m\u001b[0;32mNone\u001b[0m\u001b[0;34m)\u001b[0m\u001b[0;34m\u001b[0m\u001b[0;34m\u001b[0m\u001b[0m\n\u001b[0;32m--> 242\u001b[0;31m             X, y = self._validate_data(\n\u001b[0m\u001b[1;32m    243\u001b[0m                 \u001b[0mX\u001b[0m\u001b[0;34m,\u001b[0m \u001b[0my\u001b[0m\u001b[0;34m,\u001b[0m \u001b[0mvalidate_separately\u001b[0m\u001b[0;34m=\u001b[0m\u001b[0;34m(\u001b[0m\u001b[0mcheck_X_params\u001b[0m\u001b[0;34m,\u001b[0m \u001b[0mcheck_y_params\u001b[0m\u001b[0;34m)\u001b[0m\u001b[0;34m\u001b[0m\u001b[0;34m\u001b[0m\u001b[0m\n\u001b[1;32m    244\u001b[0m             )\n",
      "\u001b[0;32m~/.local/lib/python3.8/site-packages/sklearn/base.py\u001b[0m in \u001b[0;36m_validate_data\u001b[0;34m(self, X, y, reset, validate_separately, cast_to_ndarray, **check_params)\u001b[0m\n\u001b[1;32m    614\u001b[0m                 \u001b[0;32mif\u001b[0m \u001b[0;34m\"estimator\"\u001b[0m \u001b[0;32mnot\u001b[0m \u001b[0;32min\u001b[0m \u001b[0mcheck_X_params\u001b[0m\u001b[0;34m:\u001b[0m\u001b[0;34m\u001b[0m\u001b[0;34m\u001b[0m\u001b[0m\n\u001b[1;32m    615\u001b[0m                     \u001b[0mcheck_X_params\u001b[0m \u001b[0;34m=\u001b[0m \u001b[0;34m{\u001b[0m\u001b[0;34m**\u001b[0m\u001b[0mdefault_check_params\u001b[0m\u001b[0;34m,\u001b[0m \u001b[0;34m**\u001b[0m\u001b[0mcheck_X_params\u001b[0m\u001b[0;34m}\u001b[0m\u001b[0;34m\u001b[0m\u001b[0;34m\u001b[0m\u001b[0m\n\u001b[0;32m--> 616\u001b[0;31m                 \u001b[0mX\u001b[0m \u001b[0;34m=\u001b[0m \u001b[0mcheck_array\u001b[0m\u001b[0;34m(\u001b[0m\u001b[0mX\u001b[0m\u001b[0;34m,\u001b[0m \u001b[0minput_name\u001b[0m\u001b[0;34m=\u001b[0m\u001b[0;34m\"X\"\u001b[0m\u001b[0;34m,\u001b[0m \u001b[0;34m**\u001b[0m\u001b[0mcheck_X_params\u001b[0m\u001b[0;34m)\u001b[0m\u001b[0;34m\u001b[0m\u001b[0;34m\u001b[0m\u001b[0m\n\u001b[0m\u001b[1;32m    617\u001b[0m                 \u001b[0;32mif\u001b[0m \u001b[0;34m\"estimator\"\u001b[0m \u001b[0;32mnot\u001b[0m \u001b[0;32min\u001b[0m \u001b[0mcheck_y_params\u001b[0m\u001b[0;34m:\u001b[0m\u001b[0;34m\u001b[0m\u001b[0;34m\u001b[0m\u001b[0m\n\u001b[1;32m    618\u001b[0m                     \u001b[0mcheck_y_params\u001b[0m \u001b[0;34m=\u001b[0m \u001b[0;34m{\u001b[0m\u001b[0;34m**\u001b[0m\u001b[0mdefault_check_params\u001b[0m\u001b[0;34m,\u001b[0m \u001b[0;34m**\u001b[0m\u001b[0mcheck_y_params\u001b[0m\u001b[0;34m}\u001b[0m\u001b[0;34m\u001b[0m\u001b[0;34m\u001b[0m\u001b[0m\n",
      "\u001b[0;32m~/.local/lib/python3.8/site-packages/sklearn/utils/validation.py\u001b[0m in \u001b[0;36mcheck_array\u001b[0;34m(array, accept_sparse, accept_large_sparse, dtype, order, copy, force_all_finite, ensure_2d, allow_nd, ensure_min_samples, ensure_min_features, estimator, input_name)\u001b[0m\n\u001b[1;32m    915\u001b[0m                     \u001b[0marray\u001b[0m \u001b[0;34m=\u001b[0m \u001b[0mxp\u001b[0m\u001b[0;34m.\u001b[0m\u001b[0mastype\u001b[0m\u001b[0;34m(\u001b[0m\u001b[0marray\u001b[0m\u001b[0;34m,\u001b[0m \u001b[0mdtype\u001b[0m\u001b[0;34m,\u001b[0m \u001b[0mcopy\u001b[0m\u001b[0;34m=\u001b[0m\u001b[0;32mFalse\u001b[0m\u001b[0;34m)\u001b[0m\u001b[0;34m\u001b[0m\u001b[0;34m\u001b[0m\u001b[0m\n\u001b[1;32m    916\u001b[0m                 \u001b[0;32melse\u001b[0m\u001b[0;34m:\u001b[0m\u001b[0;34m\u001b[0m\u001b[0;34m\u001b[0m\u001b[0m\n\u001b[0;32m--> 917\u001b[0;31m                     \u001b[0marray\u001b[0m \u001b[0;34m=\u001b[0m \u001b[0m_asarray_with_order\u001b[0m\u001b[0;34m(\u001b[0m\u001b[0marray\u001b[0m\u001b[0;34m,\u001b[0m \u001b[0morder\u001b[0m\u001b[0;34m=\u001b[0m\u001b[0morder\u001b[0m\u001b[0;34m,\u001b[0m \u001b[0mdtype\u001b[0m\u001b[0;34m=\u001b[0m\u001b[0mdtype\u001b[0m\u001b[0;34m,\u001b[0m \u001b[0mxp\u001b[0m\u001b[0;34m=\u001b[0m\u001b[0mxp\u001b[0m\u001b[0;34m)\u001b[0m\u001b[0;34m\u001b[0m\u001b[0;34m\u001b[0m\u001b[0m\n\u001b[0m\u001b[1;32m    918\u001b[0m             \u001b[0;32mexcept\u001b[0m \u001b[0mComplexWarning\u001b[0m \u001b[0;32mas\u001b[0m \u001b[0mcomplex_warning\u001b[0m\u001b[0;34m:\u001b[0m\u001b[0;34m\u001b[0m\u001b[0;34m\u001b[0m\u001b[0m\n\u001b[1;32m    919\u001b[0m                 raise ValueError(\n",
      "\u001b[0;32m~/.local/lib/python3.8/site-packages/sklearn/utils/_array_api.py\u001b[0m in \u001b[0;36m_asarray_with_order\u001b[0;34m(array, dtype, order, copy, xp)\u001b[0m\n\u001b[1;32m    378\u001b[0m             \u001b[0marray\u001b[0m \u001b[0;34m=\u001b[0m \u001b[0mnumpy\u001b[0m\u001b[0;34m.\u001b[0m\u001b[0marray\u001b[0m\u001b[0;34m(\u001b[0m\u001b[0marray\u001b[0m\u001b[0;34m,\u001b[0m \u001b[0morder\u001b[0m\u001b[0;34m=\u001b[0m\u001b[0morder\u001b[0m\u001b[0;34m,\u001b[0m \u001b[0mdtype\u001b[0m\u001b[0;34m=\u001b[0m\u001b[0mdtype\u001b[0m\u001b[0;34m)\u001b[0m\u001b[0;34m\u001b[0m\u001b[0;34m\u001b[0m\u001b[0m\n\u001b[1;32m    379\u001b[0m         \u001b[0;32melse\u001b[0m\u001b[0;34m:\u001b[0m\u001b[0;34m\u001b[0m\u001b[0;34m\u001b[0m\u001b[0m\n\u001b[0;32m--> 380\u001b[0;31m             \u001b[0marray\u001b[0m \u001b[0;34m=\u001b[0m \u001b[0mnumpy\u001b[0m\u001b[0;34m.\u001b[0m\u001b[0masarray\u001b[0m\u001b[0;34m(\u001b[0m\u001b[0marray\u001b[0m\u001b[0;34m,\u001b[0m \u001b[0morder\u001b[0m\u001b[0;34m=\u001b[0m\u001b[0morder\u001b[0m\u001b[0;34m,\u001b[0m \u001b[0mdtype\u001b[0m\u001b[0;34m=\u001b[0m\u001b[0mdtype\u001b[0m\u001b[0;34m)\u001b[0m\u001b[0;34m\u001b[0m\u001b[0;34m\u001b[0m\u001b[0m\n\u001b[0m\u001b[1;32m    381\u001b[0m \u001b[0;34m\u001b[0m\u001b[0m\n\u001b[1;32m    382\u001b[0m         \u001b[0;31m# At this point array is a NumPy ndarray. We convert it to an array\u001b[0m\u001b[0;34m\u001b[0m\u001b[0;34m\u001b[0m\u001b[0;34m\u001b[0m\u001b[0m\n",
      "\u001b[0;31mValueError\u001b[0m: could not convert string to float: 'prob_nw_rbert'"
     ]
    }
   ],
   "source": [
    "# Create Decision Tree classifer object\n",
    "classifier = DecisionTreeClassifier()\n",
    "\n",
    "# Train Decision Tree Classifer\n",
    "clf = classifier.fit(X,Y)"
   ]
  },
  {
   "cell_type": "markdown",
   "metadata": {},
   "source": [
    "## viewing the decision tree classifier"
   ]
  },
  {
   "cell_type": "code",
   "execution_count": null,
   "metadata": {},
   "outputs": [],
   "source": [
    "from sklearn.tree import export_graphviz\n",
    "from io import StringIO\n",
    "from IPython.display import Image  \n",
    "import pydotplus"
   ]
  },
  {
   "cell_type": "code",
   "execution_count": null,
   "metadata": {},
   "outputs": [],
   "source": [
    "dot_data = StringIO()\n",
    "export_graphviz(clf, out_file=dot_data,  \n",
    "                filled=True, rounded=True,\n",
    "                special_characters=True,feature_names = feature_cols,class_names=['0','1'])\n",
    "graph = pydotplus.graph_from_dot_data(dot_data.getvalue())  \n",
    "graph.write_png('decTreeREAL.png')\n",
    "Image(graph.create_png())"
   ]
  },
  {
   "cell_type": "markdown",
   "metadata": {},
   "source": [
    "# Prediction and evaluation"
   ]
  },
  {
   "cell_type": "code",
   "execution_count": null,
   "metadata": {},
   "outputs": [],
   "source": [
    "# predict the flag using the model\n",
    "df2['flag_predicted'] = clf.predict(df2[feature_cols])"
   ]
  },
  {
   "cell_type": "code",
   "execution_count": null,
   "metadata": {},
   "outputs": [],
   "source": [
    "# validation: Does the model reduce the error?\n",
    "print('error made by mergent:', (len(df2[(df2['flag_listing'] == 1) & (df2['flag_predicted'] == 0)]))*100 / len(df2[df2['flag_listing'] == 1]))"
   ]
  },
  {
   "cell_type": "code",
   "execution_count": null,
   "metadata": {},
   "outputs": [],
   "source": [
    "# Benchmarking:\n",
    "print('Total number of companies:',len(df2))\n",
    "print('number of minority-owned:',len(df2[df2['flag_predicted']==1]))\n",
    "print('Percentage of minority-owned:',100*len(df2[df2['flag_predicted']==1])/len(df2))"
   ]
  },
  {
   "cell_type": "code",
   "execution_count": null,
   "metadata": {},
   "outputs": [],
   "source": []
  }
 ],
 "metadata": {
  "kernelspec": {
   "display_name": "Python 3.8",
   "language": "python",
   "name": "python-3.8"
  },
  "language_info": {
   "codemirror_mode": {
    "name": "ipython",
    "version": 3
   },
   "file_extension": ".py",
   "mimetype": "text/x-python",
   "name": "python",
   "nbconvert_exporter": "python",
   "pygments_lexer": "ipython3",
   "version": "3.8.8"
  }
 },
 "nbformat": 4,
 "nbformat_minor": 4
}
