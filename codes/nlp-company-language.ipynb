{
 "cells": [
  {
   "cell_type": "code",
   "execution_count": 1,
   "metadata": {},
   "outputs": [],
   "source": [
    "import pandas as pd\n",
    "import re\n",
    "\n",
    "import spacy\n",
    "from spacy.language import Language\n",
    "from spacy.tokens import Doc, Span\n",
    "\n",
    "\n",
    "from spacy_language_detection import LanguageDetector\n",
    "from googletrans import Translator\n",
    "\n",
    "\n",
    "from langdetect import detect\n",
    "import langid\n"
   ]
  },
  {
   "cell_type": "code",
   "execution_count": 2,
   "metadata": {},
   "outputs": [],
   "source": [
    "df = pd.read_csv(\"../../business-climate/data/mergent_and_library/mergent_flagged.csv.xz\")"
   ]
  },
  {
   "cell_type": "code",
   "execution_count": 3,
   "metadata": {},
   "outputs": [],
   "source": [
    "#df = pd.read_csv(\"../../business-climate/data/mergent_and_library/final_data.csv.xz\")"
   ]
  },
  {
   "cell_type": "code",
   "execution_count": 4,
   "metadata": {},
   "outputs": [
    {
     "data": {
      "text/plain": [
       "166740"
      ]
     },
     "execution_count": 4,
     "metadata": {},
     "output_type": "execute_result"
    }
   ],
   "source": [
    "len(df)"
   ]
  },
  {
   "cell_type": "code",
   "execution_count": null,
   "metadata": {},
   "outputs": [],
   "source": []
  },
  {
   "cell_type": "code",
   "execution_count": 5,
   "metadata": {},
   "outputs": [],
   "source": [
    "df = df[['duns', 'company_name0', 'address', 'city', 'state', 'zipcode']]"
   ]
  },
  {
   "cell_type": "code",
   "execution_count": 6,
   "metadata": {},
   "outputs": [
    {
     "data": {
      "text/plain": [
       "'mistress nancy ava miller'"
      ]
     },
     "execution_count": 6,
     "metadata": {},
     "output_type": "execute_result"
    }
   ],
   "source": [
    "df.iloc[15]['company_name0']"
   ]
  },
  {
   "cell_type": "code",
   "execution_count": 7,
   "metadata": {},
   "outputs": [],
   "source": [
    "# spacy, google_translate, langid, textblob (N/A)\n"
   ]
  },
  {
   "cell_type": "code",
   "execution_count": 8,
   "metadata": {},
   "outputs": [
    {
     "data": {
      "text/plain": [
       "<spacy_language_detection.spacy_language_detector.LanguageDetector at 0x7f81bf9740d0>"
      ]
     },
     "execution_count": 8,
     "metadata": {},
     "output_type": "execute_result"
    }
   ],
   "source": [
    "## Init Spacy: Run this only once!\n",
    "import spacy\n",
    "from spacy.language import Language\n",
    "from spacy.tokens import Doc, Span\n",
    "\n",
    "\n",
    "from spacy_language_detection import LanguageDetector\n",
    "\n",
    "\n",
    "nlp_model = spacy.load(\"en_core_web_sm\")\n",
    "Language.factory(\"language_detector\", func=lambda nlp,name: LanguageDetector(seed=42)  )\n",
    "nlp_model.add_pipe('language_detector', last=True)\n",
    "\n",
    "\n",
    "\n"
   ]
  },
  {
   "cell_type": "code",
   "execution_count": 9,
   "metadata": {},
   "outputs": [],
   "source": [
    "white_languages = [\n",
    "    'aa',  # Afar\n",
    "    'af',  # Afrikaans\n",
    "    'an',  # Aragonese\n",
    "    'ay',  # Aymara\n",
    "    'bi',  # Bislama\n",
    "    'br',  # Breton\n",
    "    'ca',  # Catalan\n",
    "    'ce',  # Chechen\n",
    "    'co',  # Corsican\n",
    "    'cs',  # Czech\n",
    "    'cy',  # Welsh\n",
    "    'da',  # Danish\n",
    "    'de',  # German\n",
    "    'en',  # English\n",
    "    'es',  # Spanish\n",
    "    'et',  # Estonian\n",
    "    'eu',  # Basque\n",
    "    'fi',  # Finnish\n",
    "    'fj',  # Fijian\n",
    "    'fo',  # Faroese\n",
    "    'fr',  # French\n",
    "    'fy',  # Western Frisian\n",
    "    'ga',  # Irish\n",
    "    'gd',  # Scottish Gaelic\n",
    "    'gl',  # Galician\n",
    "    'gv',  # Manx\n",
    "    'hr',  # Croatian\n",
    "    'hu',  # Hungarian\n",
    "    'is',  # Icelandic\n",
    "    'it',  # Italian\n",
    "    'lb',  # Luxembourgish\n",
    "    'li',  # Limburgish\n",
    "    'lt',  # Lithuanian\n",
    "    'lv',  # Latvian\n",
    "    'mg',  # Malagasy\n",
    "    'mi',  # Māori\n",
    "    'mk',  # Macedonian\n",
    "    'ml',  # Malayalam\n",
    "    'mr',  # Marathi\n",
    "    'mt',  # Maltese\n",
    "    'nds',  # Low German\n",
    "    'nl',  # Dutch\n",
    "    'nn',  # Norwegian Nynorsk\n",
    "    'no',  # Norwegian\n",
    "    'nr',  # South Ndebele\n",
    "    'oc',  # Occitan\n",
    "    'pl',  # Polish\n",
    "    'pt',  # Portuguese\n",
    "    'qu',  # Quechua\n",
    "    'ro',  # Romanian\n",
    "    'se',  # Northern Sami\n",
    "    'sk',  # Slovak\n",
    "    'sl',  # Slovenian\n",
    "    'sq',  # Albanian\n",
    "    'sv',  # Swedish\n",
    "    'sw',  # Swahili\n",
    "    'tk',  # Turkmen\n",
    "    'tn',  # Tswana\n",
    "    'tr',  # Turkish\n",
    "    'ts',  # Tsonga\n",
    "    've',  # Venda\n",
    "    'vo',  # Volapük\n",
    "    'wa',  # Walloon\n",
    "    'xh',  # Xhosa\n",
    "    'zu',  # Zulu\n",
    "]\n"
   ]
  },
  {
   "cell_type": "code",
   "execution_count": 10,
   "metadata": {},
   "outputs": [],
   "source": [
    "# Remove all non-alphabetic characters from the list and return words which are of min length 2\n",
    "def get_clean_list(ls):\n",
    "    return [elem for elem in ls.split(' ') if re.match(r'[a-zA-Z]{2,}', elem)]"
   ]
  },
  {
   "cell_type": "code",
   "execution_count": 11,
   "metadata": {},
   "outputs": [
    {
     "data": {
      "text/plain": [
       "['william', 'byrnes']"
      ]
     },
     "execution_count": 11,
     "metadata": {},
     "output_type": "execute_result"
    }
   ],
   "source": [
    "get_clean_list('william j byrnes')"
   ]
  },
  {
   "cell_type": "code",
   "execution_count": 12,
   "metadata": {},
   "outputs": [],
   "source": [
    "def get_prob_spacy(name):\n",
    "    doc = nlp_model(name)\n",
    "    lang_d = doc._.language\n",
    "    language = lang_d['language']\n",
    "    score = lang_d['score']\n",
    "    #print(lang_d)\n",
    "    if language in white_languages:\n",
    "        return 0\n",
    "    else:\n",
    "        return score\n"
   ]
  },
  {
   "cell_type": "code",
   "execution_count": 13,
   "metadata": {},
   "outputs": [
    {
     "data": {
      "text/plain": [
       "0"
      ]
     },
     "execution_count": 13,
     "metadata": {},
     "output_type": "execute_result"
    }
   ],
   "source": [
    "get_prob_spacy(\"clark solutions\")"
   ]
  },
  {
   "cell_type": "code",
   "execution_count": 14,
   "metadata": {},
   "outputs": [
    {
     "name": "stdout",
     "output_type": "stream",
     "text": [
      "{'language': 'tl', 'score': 0.8571382856348696}\n"
     ]
    }
   ],
   "source": [
    "## For rough work\n",
    "\n",
    "doc = nlp_model(\"Chang\")\n",
    "lang_d = doc._.language\n",
    "language = lang_d['language']\n",
    "score = lang_d['score']\n",
    "print(lang_d)\n"
   ]
  },
  {
   "cell_type": "code",
   "execution_count": 15,
   "metadata": {},
   "outputs": [],
   "source": [
    "## INIT googletrans\n",
    "\n",
    "from googletrans import Translator\n",
    "translator = Translator()\n",
    "\n",
    "\n",
    "def get_prob_gt(text):\n",
    "    language = translator.detect(text)\n",
    "    #print(language)\n",
    "    \n",
    "    if type(language.lang) == list:\n",
    "        if language.lang[0] in white_languages:\n",
    "            return language.confidence[0]\n",
    "        else:\n",
    "            return 0\n",
    "            \n",
    "        \n",
    "    if language.lang in white_languages:\n",
    "        return 0\n",
    "    else:\n",
    "        return language.confidence \n",
    "    "
   ]
  },
  {
   "cell_type": "code",
   "execution_count": 16,
   "metadata": {},
   "outputs": [
    {
     "data": {
      "text/plain": [
       "0"
      ]
     },
     "execution_count": 16,
     "metadata": {},
     "output_type": "execute_result"
    }
   ],
   "source": [
    "get_prob_gt(\"William\")"
   ]
  },
  {
   "cell_type": "code",
   "execution_count": 17,
   "metadata": {},
   "outputs": [],
   "source": [
    "## Init langdetect\n",
    "from langdetect import detect\n",
    "\n",
    "\n",
    "def get_prob_ld(text):\n",
    "    lang = detect(text)\n",
    "    \n",
    "    if lang in white_languages:\n",
    "        return 0\n",
    "    else:\n",
    "        return 1"
   ]
  },
  {
   "cell_type": "code",
   "execution_count": 18,
   "metadata": {},
   "outputs": [
    {
     "name": "stdout",
     "output_type": "stream",
     "text": [
      "the eyewear gallery\n"
     ]
    }
   ],
   "source": [
    "print(df.iloc[8257]['company_name0'])"
   ]
  },
  {
   "cell_type": "code",
   "execution_count": 19,
   "metadata": {},
   "outputs": [
    {
     "name": "stdout",
     "output_type": "stream",
     "text": [
      "8300\n",
      "8400\n",
      "8500\n",
      "8600\n",
      "8700\n",
      "8800\n",
      "8900\n",
      "9000\n",
      "9100\n",
      "Failed to predict one of the things False True False\n",
      "9200\n",
      "9300\n",
      "9400\n",
      "9500\n",
      "9600\n",
      "9700\n",
      "9800\n",
      "9900\n",
      "10000\n",
      "10100\n",
      "10200\n",
      "10300\n",
      "10400\n",
      "10500\n",
      "10600\n",
      "10700\n",
      "10800\n",
      "10900\n",
      "11000\n",
      "11100\n",
      "11200\n",
      "11300\n",
      "11400\n",
      "11500\n",
      "11600\n",
      "11700\n",
      "11800\n",
      "11900\n",
      "12000\n",
      "12100\n",
      "12200\n",
      "12300\n",
      "12400\n",
      "12500\n",
      "12600\n",
      "12700\n",
      "12800\n",
      "12900\n",
      "13000\n",
      "13100\n",
      "13200\n",
      "13300\n",
      "13400\n",
      "13500\n",
      "13600\n",
      "13700\n",
      "13800\n",
      "13900\n",
      "14000\n",
      "14100\n",
      "14200\n",
      "14300\n",
      "14400\n",
      "14500\n",
      "14600\n",
      "14700\n",
      "14800\n",
      "14900\n",
      "15000\n",
      "15100\n",
      "15200\n",
      "15300\n",
      "15400\n",
      "15500\n",
      "15600\n",
      "15700\n",
      "15800\n",
      "15900\n",
      "16000\n",
      "16100\n",
      "16200\n",
      "16300\n",
      "16400\n",
      "16500\n",
      "16600\n",
      "16700\n",
      "16800\n",
      "16900\n",
      "17000\n",
      "17100\n",
      "17200\n",
      "17300\n",
      "17400\n",
      "17500\n",
      "17600\n",
      "17700\n",
      "17800\n",
      "17900\n",
      "18000\n",
      "18100\n",
      "18200\n",
      "18300\n",
      "18400\n",
      "18500\n",
      "18600\n",
      "18700\n",
      "18800\n",
      "18900\n",
      "19000\n",
      "19100\n",
      "19200\n",
      "19300\n",
      "19400\n",
      "19500\n",
      "19600\n",
      "19700\n",
      "19800\n",
      "19900\n"
     ]
    }
   ],
   "source": [
    "prob_arr = []\n",
    "\n",
    "LEN = len(df)\n",
    "\n",
    "list_spacy = []\n",
    "list_gt = []\n",
    "list_ld = []\n",
    "\n",
    "for i in range(8257, 20000):\n",
    "    if i%100 == 0:\n",
    "        print(i)\n",
    "        \n",
    "    company_name = df.iloc[i]['company_name0']\n",
    "    tokens = get_clean_list(company_name)\n",
    "    \n",
    "    prob_token_0 = []\n",
    "    prob_0_fail = False\n",
    "    prob_token_1 = []\n",
    "    prob_1_fail = False\n",
    "    prob_token_2 = []\n",
    "    prob_2_fail = False\n",
    "    \n",
    "    try:\n",
    "        prob_token_0 = list(map(get_prob_spacy, tokens))\n",
    "    except:\n",
    "        prob_0_fail = True\n",
    "    \n",
    "    try:\n",
    "        prob_token_1 = list(map(get_prob_gt, tokens))\n",
    "    except:\n",
    "        prob_1_fail = True\n",
    "    \n",
    "    try:\n",
    "        prob_token_2 = list(map(get_prob_ld, tokens))\n",
    "    except:\n",
    "        prob_2_fail = True\n",
    "        \n",
    "    \n",
    "    if prob_0_fail or prob_1_fail or prob_2_fail:\n",
    "        print(\"Failed to predict one of the things\",prob_0_fail,prob_1_fail,prob_2_fail)\n",
    "    \n",
    "    count_spacy = 0\n",
    "    count_gt = 0\n",
    "    count_ld = 0\n",
    "    \n",
    "    prb_spacy = 0\n",
    "    prb_gt = 0\n",
    "    prb_ld = 0\n",
    "    \n",
    "    \n",
    "    #print(prob_token_1)\n",
    "    \n",
    "    \n",
    "    for prb_itr in range(len(prob_token_0)):\n",
    "        if not prob_0_fail and prob_token_0[prb_itr] > 0:\n",
    "            count_spacy += 1\n",
    "            prb_spacy += prob_token_0[prb_itr]\n",
    "        if not prob_1_fail and prob_token_1[prb_itr] > 0:\n",
    "            count_gt += 1\n",
    "            prb_gt += prob_token_1[prb_itr]\n",
    "        if not prob_2_fail and prob_token_2[prb_itr] > 0:\n",
    "            count_ld += 1\n",
    "            prb_ld += prob_token_2[prb_itr]\n",
    "        \n",
    "    #print(count_spacy,count_gt,count_ld )\n",
    "    #print(prb_spacy, prb_gt, prb_ld)\n",
    "            \n",
    "    if not prob_0_fail:\n",
    "        if count_spacy > 0:   \n",
    "            prb_spacy = prb_spacy/count_spacy\n",
    "        else:\n",
    "            prb_spacy = 0\n",
    "    else:\n",
    "        prb_spacy = None\n",
    "        \n",
    "    if not prob_1_fail:\n",
    "        if count_gt > 0:\n",
    "            prb_gt = prb_gt/count_gt\n",
    "        else:\n",
    "            prb_gt = 0\n",
    "    else:\n",
    "        prb_gt = None\n",
    "        \n",
    "    if not prob_2_fail:\n",
    "        if count_ld > 0:\n",
    "            prb_ld = prb_ld/count_ld\n",
    "        else:\n",
    "            prb_ld = 0\n",
    "    else:\n",
    "        prb_ld = None\n",
    "        \n",
    "    list_spacy.append(prb_spacy)\n",
    "    list_gt.append(prb_gt)\n",
    "    list_ld.append(prb_ld)\n",
    "    \n",
    "    \n",
    "\n",
    "    \n",
    "\n",
    "\n",
    "\n",
    "\n",
    "    "
   ]
  },
  {
   "cell_type": "code",
   "execution_count": 26,
   "metadata": {},
   "outputs": [
    {
     "data": {
      "text/plain": [
       "[None, 0, 0, 0, 0, 0, 0, 0, 0, 0]"
      ]
     },
     "execution_count": 26,
     "metadata": {},
     "output_type": "execute_result"
    }
   ],
   "source": []
  },
  {
   "cell_type": "code",
   "execution_count": 20,
   "metadata": {},
   "outputs": [
    {
     "data": {
      "text/plain": [
       "11743"
      ]
     },
     "execution_count": 20,
     "metadata": {},
     "output_type": "execute_result"
    }
   ],
   "source": [
    "len(list_ld)"
   ]
  },
  {
   "cell_type": "code",
   "execution_count": 22,
   "metadata": {},
   "outputs": [],
   "source": [
    "\n",
    "    \n",
    "df_spacy = pd.DataFrame(list_spacy, columns=['prob_spacy'])\n",
    "df_gt = pd.DataFrame(list_gt, columns=['prob_gt'])\n",
    "df_ld = pd.DataFrame(list_ld, columns=['prob_ld'])\n",
    "\n",
    "\n",
    "#df = df[:10001]\n",
    "\n",
    "df_final = pd.concat([df_spacy, df_gt, df_ld], axis=1)\n",
    "\n",
    "\n",
    "df_final.to_csv(\"training_set_8257_20000.csv\")\n",
    "\n"
   ]
  },
  {
   "cell_type": "code",
   "execution_count": 125,
   "metadata": {},
   "outputs": [
    {
     "data": {
      "text/plain": [
       "10518"
      ]
     },
     "execution_count": 125,
     "metadata": {},
     "output_type": "execute_result"
    }
   ],
   "source": []
  },
  {
   "cell_type": "code",
   "execution_count": 89,
   "metadata": {},
   "outputs": [
    {
     "data": {
      "text/plain": [
       "['guston', 'mart', 'deli']"
      ]
     },
     "execution_count": 89,
     "metadata": {},
     "output_type": "execute_result"
    }
   ],
   "source": []
  },
  {
   "cell_type": "code",
   "execution_count": 85,
   "metadata": {},
   "outputs": [
    {
     "data": {
      "text/plain": [
       "True"
      ]
     },
     "execution_count": 85,
     "metadata": {},
     "output_type": "execute_result"
    }
   ],
   "source": []
  },
  {
   "cell_type": "code",
   "execution_count": 43,
   "metadata": {},
   "outputs": [],
   "source": [
    "df1 = pd.read_csv(\"./data/training/mergent_flagged_company_name_nlp_0_10000.csv\")[:10000]\n",
    "df2 = pd.read_csv(\"./data/training/mergent_flagged_company_name_nlp_10000_EOL.csv\")[9990:]"
   ]
  },
  {
   "cell_type": "code",
   "execution_count": 35,
   "metadata": {},
   "outputs": [],
   "source": [
    "df_final = pd.concat([df1, df2], axis=0)"
   ]
  },
  {
   "cell_type": "code",
   "execution_count": 44,
   "metadata": {},
   "outputs": [
    {
     "data": {
      "text/html": [
       "<div>\n",
       "<style scoped>\n",
       "    .dataframe tbody tr th:only-of-type {\n",
       "        vertical-align: middle;\n",
       "    }\n",
       "\n",
       "    .dataframe tbody tr th {\n",
       "        vertical-align: top;\n",
       "    }\n",
       "\n",
       "    .dataframe thead th {\n",
       "        text-align: right;\n",
       "    }\n",
       "</style>\n",
       "<table border=\"1\" class=\"dataframe\">\n",
       "  <thead>\n",
       "    <tr style=\"text-align: right;\">\n",
       "      <th></th>\n",
       "      <th>Unnamed: 0</th>\n",
       "      <th>duns</th>\n",
       "      <th>company_name</th>\n",
       "      <th>firstname</th>\n",
       "      <th>lastname</th>\n",
       "      <th>title</th>\n",
       "      <th>gender</th>\n",
       "      <th>flag_owner</th>\n",
       "      <th>flag_presi_vicepresi</th>\n",
       "      <th>prob_nw_eth_wiki</th>\n",
       "      <th>...</th>\n",
       "      <th>primary_naics</th>\n",
       "      <th>naics2</th>\n",
       "      <th>naics_name</th>\n",
       "      <th>flag_executive_reported</th>\n",
       "      <th>geoid</th>\n",
       "      <th>prop_nwh</th>\n",
       "      <th>geometry</th>\n",
       "      <th>prob_spacy</th>\n",
       "      <th>prob_gt</th>\n",
       "      <th>prob_ld</th>\n",
       "    </tr>\n",
       "  </thead>\n",
       "  <tbody>\n",
       "    <tr>\n",
       "      <th>9990</th>\n",
       "      <td>9990</td>\n",
       "      <td>08-836-5767</td>\n",
       "      <td>CARAHSOFT TECHNOLOGY CORP.</td>\n",
       "      <td>Tess</td>\n",
       "      <td>Van Gorder</td>\n",
       "      <td>Partner Webcast Email Banner</td>\n",
       "      <td>FEMALE</td>\n",
       "      <td>0</td>\n",
       "      <td>0</td>\n",
       "      <td>0.049304</td>\n",
       "      <td>...</td>\n",
       "      <td>541512</td>\n",
       "      <td>54</td>\n",
       "      <td>Professional, Scientific, and Technical Services</td>\n",
       "      <td>1</td>\n",
       "      <td>5.105948e+10</td>\n",
       "      <td>27.077295</td>\n",
       "      <td>c(-77.344876, 38.950388)</td>\n",
       "      <td>NaN</td>\n",
       "      <td>NaN</td>\n",
       "      <td>NaN</td>\n",
       "    </tr>\n",
       "    <tr>\n",
       "      <th>9991</th>\n",
       "      <td>9991</td>\n",
       "      <td>08-836-5767</td>\n",
       "      <td>CARAHSOFT TECHNOLOGY CORP.</td>\n",
       "      <td>Erin</td>\n",
       "      <td>Portare</td>\n",
       "      <td>Account Representative</td>\n",
       "      <td>FEMALE</td>\n",
       "      <td>0</td>\n",
       "      <td>0</td>\n",
       "      <td>0.024183</td>\n",
       "      <td>...</td>\n",
       "      <td>541512</td>\n",
       "      <td>54</td>\n",
       "      <td>Professional, Scientific, and Technical Services</td>\n",
       "      <td>1</td>\n",
       "      <td>5.105948e+10</td>\n",
       "      <td>27.077295</td>\n",
       "      <td>c(-77.344876, 38.950388)</td>\n",
       "      <td>NaN</td>\n",
       "      <td>NaN</td>\n",
       "      <td>NaN</td>\n",
       "    </tr>\n",
       "    <tr>\n",
       "      <th>9992</th>\n",
       "      <td>9992</td>\n",
       "      <td>08-836-5767</td>\n",
       "      <td>CARAHSOFT TECHNOLOGY CORP.</td>\n",
       "      <td>Brian</td>\n",
       "      <td>Soliday</td>\n",
       "      <td>President</td>\n",
       "      <td>MALE</td>\n",
       "      <td>0</td>\n",
       "      <td>1</td>\n",
       "      <td>0.067371</td>\n",
       "      <td>...</td>\n",
       "      <td>541512</td>\n",
       "      <td>54</td>\n",
       "      <td>Professional, Scientific, and Technical Services</td>\n",
       "      <td>1</td>\n",
       "      <td>5.105948e+10</td>\n",
       "      <td>27.077295</td>\n",
       "      <td>c(-77.344876, 38.950388)</td>\n",
       "      <td>NaN</td>\n",
       "      <td>NaN</td>\n",
       "      <td>NaN</td>\n",
       "    </tr>\n",
       "    <tr>\n",
       "      <th>9993</th>\n",
       "      <td>9993</td>\n",
       "      <td>08-836-5767</td>\n",
       "      <td>CARAHSOFT TECHNOLOGY CORP.</td>\n",
       "      <td>Kate</td>\n",
       "      <td>Bojanowski</td>\n",
       "      <td>Order Management Specialist</td>\n",
       "      <td>FEMALE</td>\n",
       "      <td>0</td>\n",
       "      <td>0</td>\n",
       "      <td>0.032427</td>\n",
       "      <td>...</td>\n",
       "      <td>541512</td>\n",
       "      <td>54</td>\n",
       "      <td>Professional, Scientific, and Technical Services</td>\n",
       "      <td>1</td>\n",
       "      <td>5.105948e+10</td>\n",
       "      <td>27.077295</td>\n",
       "      <td>c(-77.344876, 38.950388)</td>\n",
       "      <td>NaN</td>\n",
       "      <td>NaN</td>\n",
       "      <td>NaN</td>\n",
       "    </tr>\n",
       "    <tr>\n",
       "      <th>9994</th>\n",
       "      <td>9994</td>\n",
       "      <td>08-836-5767</td>\n",
       "      <td>CARAHSOFT TECHNOLOGY CORP.</td>\n",
       "      <td>Amira</td>\n",
       "      <td>Ali</td>\n",
       "      <td>Accounts Receivable</td>\n",
       "      <td>FEMALE</td>\n",
       "      <td>0</td>\n",
       "      <td>0</td>\n",
       "      <td>0.330501</td>\n",
       "      <td>...</td>\n",
       "      <td>541512</td>\n",
       "      <td>54</td>\n",
       "      <td>Professional, Scientific, and Technical Services</td>\n",
       "      <td>1</td>\n",
       "      <td>5.105948e+10</td>\n",
       "      <td>27.077295</td>\n",
       "      <td>c(-77.344876, 38.950388)</td>\n",
       "      <td>NaN</td>\n",
       "      <td>NaN</td>\n",
       "      <td>NaN</td>\n",
       "    </tr>\n",
       "  </tbody>\n",
       "</table>\n",
       "<p>5 rows × 39 columns</p>\n",
       "</div>"
      ],
      "text/plain": [
       "      Unnamed: 0         duns                company_name firstname  \\\n",
       "9990        9990  08-836-5767  CARAHSOFT TECHNOLOGY CORP.      Tess   \n",
       "9991        9991  08-836-5767  CARAHSOFT TECHNOLOGY CORP.      Erin   \n",
       "9992        9992  08-836-5767  CARAHSOFT TECHNOLOGY CORP.     Brian   \n",
       "9993        9993  08-836-5767  CARAHSOFT TECHNOLOGY CORP.      Kate   \n",
       "9994        9994  08-836-5767  CARAHSOFT TECHNOLOGY CORP.     Amira   \n",
       "\n",
       "        lastname                         title  gender  flag_owner  \\\n",
       "9990  Van Gorder  Partner Webcast Email Banner  FEMALE           0   \n",
       "9991     Portare        Account Representative  FEMALE           0   \n",
       "9992     Soliday                     President    MALE           0   \n",
       "9993  Bojanowski   Order Management Specialist  FEMALE           0   \n",
       "9994         Ali           Accounts Receivable  FEMALE           0   \n",
       "\n",
       "      flag_presi_vicepresi  prob_nw_eth_wiki  ...  primary_naics  naics2  \\\n",
       "9990                     0          0.049304  ...         541512      54   \n",
       "9991                     0          0.024183  ...         541512      54   \n",
       "9992                     1          0.067371  ...         541512      54   \n",
       "9993                     0          0.032427  ...         541512      54   \n",
       "9994                     0          0.330501  ...         541512      54   \n",
       "\n",
       "                                            naics_name  \\\n",
       "9990  Professional, Scientific, and Technical Services   \n",
       "9991  Professional, Scientific, and Technical Services   \n",
       "9992  Professional, Scientific, and Technical Services   \n",
       "9993  Professional, Scientific, and Technical Services   \n",
       "9994  Professional, Scientific, and Technical Services   \n",
       "\n",
       "      flag_executive_reported         geoid   prop_nwh  \\\n",
       "9990                        1  5.105948e+10  27.077295   \n",
       "9991                        1  5.105948e+10  27.077295   \n",
       "9992                        1  5.105948e+10  27.077295   \n",
       "9993                        1  5.105948e+10  27.077295   \n",
       "9994                        1  5.105948e+10  27.077295   \n",
       "\n",
       "                      geometry prob_spacy prob_gt  prob_ld  \n",
       "9990  c(-77.344876, 38.950388)        NaN     NaN      NaN  \n",
       "9991  c(-77.344876, 38.950388)        NaN     NaN      NaN  \n",
       "9992  c(-77.344876, 38.950388)        NaN     NaN      NaN  \n",
       "9993  c(-77.344876, 38.950388)        NaN     NaN      NaN  \n",
       "9994  c(-77.344876, 38.950388)        NaN     NaN      NaN  \n",
       "\n",
       "[5 rows x 39 columns]"
      ]
     },
     "execution_count": 44,
     "metadata": {},
     "output_type": "execute_result"
    }
   ],
   "source": [
    "df2.head()"
   ]
  },
  {
   "cell_type": "code",
   "execution_count": 37,
   "metadata": {},
   "outputs": [],
   "source": [
    "df_final.to_csv(\"final_data.csv\")"
   ]
  },
  {
   "cell_type": "code",
   "execution_count": null,
   "metadata": {},
   "outputs": [],
   "source": []
  }
 ],
 "metadata": {
  "kernelspec": {
   "display_name": "Python [conda env:.conda-nlp-lang-detect]",
   "language": "python",
   "name": "conda-env-.conda-nlp-lang-detect-py"
  },
  "language_info": {
   "codemirror_mode": {
    "name": "ipython",
    "version": 3
   },
   "file_extension": ".py",
   "mimetype": "text/x-python",
   "name": "python",
   "nbconvert_exporter": "python",
   "pygments_lexer": "ipython3",
   "version": "3.10.12"
  }
 },
 "nbformat": 4,
 "nbformat_minor": 4
}
